{
 "cells": [
  {
   "cell_type": "code",
   "execution_count": null,
   "id": "5ec711e1-b40d-4b2e-87af-543c6784fc20",
   "metadata": {},
   "outputs": [],
   "source": [
    "from pathlib import Path\n",
    "from scipy.io import loadmat\n",
    "import os\n",
    "import numpy as np\n",
    "import pandas as pd\n",
    "from matplotlib import pyplot as plt\n",
    "import seaborn as sns\n",
    "from itertools import cycle"
   ]
  },
  {
   "cell_type": "code",
   "execution_count": null,
   "id": "505493b0-3141-42ae-9539-8a23c8c3d720",
   "metadata": {},
   "outputs": [],
   "source": [
    "sns.set(font_scale=1.2)\n",
    "sns.set_style(\"white\")"
   ]
  },
  {
   "cell_type": "markdown",
   "id": "cafe4d99-3342-42a3-8ee2-5acfdd3736dd",
   "metadata": {},
   "source": [
    "# Rename files that don't match new naming scheme\n"
   ]
  },
  {
   "cell_type": "raw",
   "id": "5772839f-553a-4a50-8795-f293099a9850",
   "metadata": {},
   "source": [
    "\n",
    "def rename_file(directory, old_pattern, new_pattern, str_pre, str_post, sep=\"_\"):\n",
    "    directory = Path(directory)\n",
    "    if old_pattern == \"\":\n",
    "        search_pattern = (f\"*{str_pre + sep + str_post}*\")\n",
    "    else:\n",
    "        search_pattern = f\"*{str_pre}*{old_pattern}*{str_post}*\"\n",
    "    file_gen = directory.glob(search_pattern)\n",
    "    files = [str(f) for f in file_gen]\n",
    "    print(\"Found the following matches:\")\n",
    "    print(files)\n",
    "    resp = input(\"To rename press 'y'\")\n",
    "    if resp == \"y\":\n",
    "        for fn in files:\n",
    "            if old_pattern == \"\":\n",
    "                idx_post = fn.find(str_post)\n",
    "\n",
    "                fn_before = fn[:idx_post]\n",
    "                fn_after = fn[idx_post:]\n",
    "                new_name = fn_before + new_pattern + sep + fn_after\n",
    "            else:\n",
    "                new_name = fn.replace(old_pattern, new_pattern)\n",
    "            print(f\"Renaming {fn} to {new_name}\")\n",
    "            \n",
    "            os.rename(fn, new_name)\n",
    "            "
   ]
  },
  {
   "cell_type": "raw",
   "id": "81fc5525-cda4-474c-923b-4a5e48458be1",
   "metadata": {},
   "source": [
    "# Rename files that use older naming schemes\n",
    "to_rename = {\n",
    "    \n",
    "    \"3nil\": \"3_nil\",\n",
    "    \"fym22\": \"22_Fym\",\n",
    "    \"\": \"21_FymN2\",\n",
    "}\n",
    "\n",
    "str_pre = \"25-05-09-1508_Rothamsted_porg00475\"\n",
    "str_post = \"npk_res_ini\"\n",
    "for op, np in to_rename.items():    \n",
    "    rename_file(\"results/full_spinup\", op, np, str_pre, str_post, \"_\")\n",
    "    "
   ]
  },
  {
   "cell_type": "markdown",
   "id": "bfbcf95c-60c6-4b22-9cfe-9729abbd8ec2",
   "metadata": {},
   "source": [
    "# Data loading"
   ]
  },
  {
   "cell_type": "markdown",
   "id": "c36b5ddc-92bd-403d-abaf-5cbb5e34b81a",
   "metadata": {},
   "source": [
    "### Experimental data"
   ]
  },
  {
   "cell_type": "code",
   "execution_count": null,
   "id": "fade6f21-97c6-4eb1-be43-5bd1431e0008",
   "metadata": {},
   "outputs": [],
   "source": [
    "def extract_exp_name(filename, str_pre, str_post, sep=\"_\"):\n",
    "    start_idx = filename.find(str_pre) + len(str_pre)\n",
    "    end_idx = filename.find(str_post)\n",
    "    return filename[start_idx:end_idx].strip(sep)\n",
    "    "
   ]
  },
  {
   "cell_type": "markdown",
   "id": "ccad7087-d1b5-4c87-b336-fa9146c634bf",
   "metadata": {},
   "source": [
    "#### Find files"
   ]
  },
  {
   "cell_type": "code",
   "execution_count": null,
   "id": "f915205c-1cbc-422f-8ce7-8be6ee45595f",
   "metadata": {},
   "outputs": [],
   "source": [
    "# Find all matching files\n",
    "str_pre = \"25-05-09-1508_Rothamsted_porg00475\"\n",
    "str_post = \"npk_res_ini\"\n",
    "search_pattern = f\"*{str_pre}*{str_post}*\"\n",
    "matches = Path(\"results/full_spinup\").glob(search_pattern)\n",
    "sorted_fn = sorted([str(m) for m in matches])\n",
    "\n",
    "experiment_filepaths = {}\n",
    "for fn in sorted_fn:\n",
    "    exp_name = extract_exp_name(fn, str_pre, str_post)\n",
    "    if exp_name not in [\"13_N2PK\", \"11_N2P\"]:\n",
    "        experiment_filepaths[exp_name] = fn"
   ]
  },
  {
   "cell_type": "markdown",
   "id": "5d147e6c-cff4-4a34-a0b7-2cf73ef4ca1e",
   "metadata": {},
   "source": [
    "#### Load data\n"
   ]
  },
  {
   "cell_type": "code",
   "execution_count": null,
   "id": "07b29136-cde2-457d-ba7b-aead5085bd54",
   "metadata": {},
   "outputs": [],
   "source": [
    "relevant_fields = {\"RB_L\", \"NPP_L\", \"P\", \"Date\", \"Datam\", \"Zbio\", \"rsd\", \"Bio_Zs\"}\n",
    "data = {}\n",
    "for exp, fn in experiment_filepaths.items():\n",
    "    data[exp] = {\n",
    "        k.rstrip(\"_L\"): np.asarray(v)\n",
    "        for k, v in loadmat(fn).items() if k in relevant_fields        \n",
    "    }\n",
    "    data[exp][\"path\"] = fn"
   ]
  },
  {
   "cell_type": "markdown",
   "id": "a93b627c-3282-40c8-a1e4-2b9ac10e39fb",
   "metadata": {},
   "source": [
    "We can print the path from which the data for each treatment has been loaded, to verify it's the newest file:"
   ]
  },
  {
   "cell_type": "code",
   "execution_count": null,
   "id": "193cbc58-83dc-43d9-9229-e347b495d906",
   "metadata": {
    "scrolled": true
   },
   "outputs": [],
   "source": [
    "for k, e in data.items():\n",
    "    print(k, e[\"path\"])"
   ]
  },
  {
   "cell_type": "code",
   "execution_count": null,
   "id": "e9d071e6-82be-4993-814b-e840781a8a84",
   "metadata": {},
   "outputs": [],
   "source": [
    "for exp in data.values():\n",
    "    # Year for each day of the simulation (Datam is in h, hence only every 24th)\n",
    "    exp[\"years_daily\"] = exp[\"Datam\"][::24,0]\n",
    "    exp[\"years\"] = np.unique(exp[\"years_daily\"])[1:]  # Skip first year as no harvest yet\n",
    "    exp[\"years_dt\"] = np.arange(str(exp[\"years\"][0]), str(exp[\"years\"][-1]+1), dtype=\"datetime64[Y]\")\n",
    "    exp[\"days_dt\"] = np.arange(str(exp[\"years\"][0]) + \"-01-01\", str(exp[\"years\"][-1]+1) + \"-01-01\", dtype=\"datetime64[D]\")"
   ]
  },
  {
   "cell_type": "markdown",
   "id": "3115d3cc-d5a5-4921-b4f0-71d2b95cf264",
   "metadata": {},
   "source": [
    "For later analysis, we can load temperature and precipitation values for one of the experiments (they should be the same for all, so it doesn't matter which) and store them as `temp` and `prec`. We can also derive yearly aggregates (i.e. mean and sum, respectively) and store them as `temp_yearly` and `prec_yearly`."
   ]
  },
  {
   "cell_type": "code",
   "execution_count": null,
   "id": "e5151369-75a5-4ce5-a4d2-6b0ef8222e2b",
   "metadata": {},
   "outputs": [],
   "source": [
    "some_path = next(iter(experiment_filepaths.values()))\n",
    "new_data = loadmat(some_path)\n",
    "temp = np.asarray(new_data[\"Ta\"])\n",
    "prec = np.asarray(new_data[\"Pr\"])\n",
    "\n",
    "datam = np.asarray(new_data[\"Datam\"])\n",
    "temps = []\n",
    "precs = []\n",
    "for yr in np.unique(datam[:,0]):\n",
    "    temps.append(np.mean(temp[:, datam[:,0]==yr]))\n",
    "    precs.append(np.sum(prec[:, datam[:,0]==yr]))\n",
    "temp_yearly = np.array(temps)\n",
    "prec_yearly = np.array(precs)"
   ]
  },
  {
   "cell_type": "markdown",
   "id": "12fdfbe0-2200-4486-87e5-03a7628aad16",
   "metadata": {
    "jp-MarkdownHeadingCollapsed": true
   },
   "source": [
    "### Yield data"
   ]
  },
  {
   "cell_type": "markdown",
   "id": "3eff71e8-cb59-4fd2-b773-fa10ca0223f7",
   "metadata": {},
   "source": [
    "#### Yield predictions"
   ]
  },
  {
   "cell_type": "code",
   "execution_count": null,
   "id": "32714866-60ce-45eb-a5a7-c248e3f8dc2c",
   "metadata": {},
   "outputs": [],
   "source": [
    "def get_predicted_yields(data, only_pos_values=True):\n",
    "    for exp_data in data.values():\n",
    "        yield_yearly_pred = np.zeros((len(exp_data[\"years\"]), exp_data[\"RB\"].shape[1], 7))\n",
    "        for i, yr in enumerate(exp_data[\"years\"]):\n",
    "            RB_curr_yr = exp_data[\"RB\"][1:][exp_data[\"years_daily\"]==yr]\n",
    "            if only_pos_values:\n",
    "                # Set negative yields (mostly at planting) to 0\n",
    "                RB_curr_yr[RB_curr_yr < 0] = 0\n",
    "            yield_yearly_pred[i] = RB_curr_yr.sum(0)\n",
    "        # Grains are fruit (4) and C reserve (3) compartments\n",
    "        exp_data[\"grain_yield\"] = yield_yearly_pred[:, :, [3, 4]].sum(2).squeeze(-1)\n",
    "        # Straw is leaves (0), sapwood (1), and dead leaves (6) compartments\n",
    "        exp_data[\"straw_yield\"] = yield_yearly_pred[:, :, [0, 1, 6]].sum(2).squeeze(-1)"
   ]
  },
  {
   "cell_type": "code",
   "execution_count": null,
   "id": "6b07a951-79b3-4552-9724-146da07c5dcc",
   "metadata": {},
   "outputs": [],
   "source": [
    "get_predicted_yields(data)"
   ]
  },
  {
   "cell_type": "markdown",
   "id": "089b918c-8f79-4b8d-ab61-528c08defe55",
   "metadata": {},
   "source": [
    "#### Yield observations"
   ]
  },
  {
   "cell_type": "code",
   "execution_count": null,
   "id": "1a315a10-73ee-4574-8083-ffde9959a6f7",
   "metadata": {},
   "outputs": [],
   "source": [
    "# Get observed yields\n",
    "obs_path = \"data/Rothamsted_yield_data.csv\"\n",
    "relevant_section = 1\n",
    "\n",
    "obs_data = pd.read_csv(obs_path)\n",
    "obs_data = obs_data[obs_data.section == relevant_section]\n",
    "\n",
    "# From t/ha to gC/m2\n",
    "obs_dry_matter_content = 0.8\n",
    "obs_c_content = 0.45\n",
    "yield_conversion_factor = obs_dry_matter_content * obs_c_content * 1e2\n",
    "\n",
    "for exp_name, exp_data in data.items():\n",
    "    strip = int(exp_name.split(\"_\")[0])\n",
    "    relevant_data = obs_data[\n",
    "        (obs_data.strip == strip)\n",
    "        & np.isin(obs_data.harvest_year, exp_data[\"years\"])\n",
    "    ]\n",
    "    assert (exp_data[\"years\"] == relevant_data.harvest_year.values).all()\n",
    "    relevant_data.loc[relevant_data.grain==\"*\", \"grain\"] = float(\"nan\")\n",
    "    relevant_data.loc[relevant_data.straw==\"*\", \"straw\"] = float(\"nan\")\n",
    "    exp_data[\"grain_yield_obs\"] = (relevant_data.grain.astype(float).values * yield_conversion_factor)\n",
    "    exp_data[\"straw_yield_obs\"] = (relevant_data.straw.astype(float).values * yield_conversion_factor)\n",
    "    exp_data[\"grain_yield_obs_t/ha\"] = (relevant_data.grain.astype(float).values)\n",
    "    exp_data[\"straw_yield_obs_t/ha\"] = (relevant_data.straw.astype(float).values)"
   ]
  },
  {
   "cell_type": "markdown",
   "id": "17d6b87c-1051-42a7-856f-ea6bc35c8f43",
   "metadata": {
    "jp-MarkdownHeadingCollapsed": true
   },
   "source": [
    "## Soil data"
   ]
  },
  {
   "cell_type": "code",
   "execution_count": null,
   "id": "93f9e1d2-f356-4de6-9f4b-4007d3188ecd",
   "metadata": {},
   "outputs": [],
   "source": [
    "soc = {\n",
    "    \"years\": np.fromiter((str(yr) for yr in [1966, 1987, 1992, 1997, 2000]), dtype=\"datetime64[Y]\"),\n",
    "    \"3_nil\": [0.87, 0.9, 0.77, 0.75, 0.85],\n",
    "    \"5_PKMg\": [0.94, 0.91, 0.94, 0.82, 0.91],\n",
    "    \"8_N3PKMg\": [1.08, 1.12, 1.07, 1.03, 1.15],\n",
    "    \"22_Fym\": [2.61, 2.82, 2.68, 2.93, 2.89],\n",
    "    \"21_FymN2\": [2.28, 2.34, 2.67, 2.62, 2.75],\n",
    "}\n",
    "\n",
    "soil_N = {\n",
    "    \"years\": np.fromiter((str(yr) for yr in [1966, 1987, 1992, 1997, 2000]), dtype=\"datetime64[Y]\"),\n",
    "    \"3_nil\": [0.103, 0.102, 0.091, 0.09, 0.088],\n",
    "    \"5_PKMg\": [0.109, 0.104, 0.101, 0.098, 0.094],\n",
    "    \"8_N3PKMg\": [0.121, 0.126, 0.118, 0.119, 0.113],\n",
    "    \"9_N4PKMg\": [0.114, 0.122, 0.122, 0.124, 0.118],\n",
    "    \"22_Fym\": [0.255, 0.27, 0.271, 0.304, 0.273],\n",
    "    \"21_FymN2\": [0.217, 0.228, 0.271, 0.272, 0.26],\n",
    "}"
   ]
  },
  {
   "cell_type": "code",
   "execution_count": null,
   "id": "ab27dcdb-d60a-4d97-a2a1-fe8cb1cdd178",
   "metadata": {},
   "outputs": [],
   "source": [
    "for name, exp in data.items():\n",
    "    bg_soil_mass = exp[\"Zbio\"].squeeze() * (exp[\"rsd\"] @ exp[\"Bio_Zs\"].squeeze())\n",
    "    soil_n_total = exp[\"P\"][1:, 25:33].sum(1)\n",
    "    soc_total = exp[\"P\"][1:, 6:21].sum(1)\n",
    "    exp[\"soil_N_daily\"] =  soil_n_total / bg_soil_mass\n",
    "    exp[\"SOC_daily\"] = soc_total / bg_soil_mass\n",
    "    exp[\"SOC\"] = np.fromiter(\n",
    "        ((exp[\"SOC_daily\"][exp[\"years_daily\"]==yr]).mean() for yr in exp[\"years\"]),\n",
    "        dtype=float\n",
    "    )\n",
    "    exp[\"soil_N\"] = np.fromiter(\n",
    "        ((exp[\"soil_N_daily\"][exp[\"years_daily\"]==yr]).mean() for yr in exp[\"years\"]),\n",
    "        dtype=float\n",
    "    )    \n",
    "    if name in soc:\n",
    "        exp[\"SOC_obs\"] = np.array(soc[name]) * 0.01\n",
    "    if name in soil_N:\n",
    "        exp[\"soil_N_obs\"] = np.array(soil_N[name]) * 0.01"
   ]
  },
  {
   "cell_type": "markdown",
   "id": "b14a1ff2-7f91-4f17-aff2-76965b854ade",
   "metadata": {},
   "source": [
    "# Analysis"
   ]
  },
  {
   "cell_type": "code",
   "execution_count": null,
   "id": "06adeacd-ec92-4ff9-a87b-26d2296a4e1b",
   "metadata": {},
   "outputs": [],
   "source": [
    "def normalize(x):\n",
    "    return (x - np.nanmean(x)) / np.nanstd(x)"
   ]
  },
  {
   "cell_type": "markdown",
   "id": "2f1a5152-246d-43f6-ad76-b84cccf098f0",
   "metadata": {},
   "source": [
    "## Yield"
   ]
  },
  {
   "cell_type": "code",
   "execution_count": null,
   "id": "2ea0f079-2fcb-4e40-9eb2-3898ea0fc513",
   "metadata": {},
   "outputs": [],
   "source": [
    "for k, e in data.items():\n",
    "    print(f\"{k} - Grain: {np.nanmean(e['grain_yield_obs_t/ha']):.2f} - Straw: {np.nanmean(e['straw_yield_obs_t/ha']):.2f}\")"
   ]
  },
  {
   "cell_type": "markdown",
   "id": "3b9bd9ea-8120-4da6-a29b-0f3160ee1681",
   "metadata": {},
   "source": [
    "#### Add normalized time series\n",
    "In the cell below we first normalize each treatment time series, which will be used for later analysis."
   ]
  },
  {
   "cell_type": "code",
   "execution_count": null,
   "id": "ff3f79c5-3758-4bf8-9558-4655de452218",
   "metadata": {},
   "outputs": [],
   "source": [
    "for exp in data.values():\n",
    "    for yield_type in (\"grain\", \"straw\"):\n",
    "        varname_mod = f\"{yield_type}_yield\"\n",
    "        varname_obs = f\"{yield_type}_yield_obs\"\n",
    "        obs_available = ~np.isnan(exp[varname_obs])\n",
    "        for varname in [varname_mod, varname_obs]:\n",
    "            val = exp[varname][obs_available]\n",
    "            mean = np.mean(val)\n",
    "            std = np.std(val)            \n",
    "            exp[f\"mean_{varname}\"] = mean\n",
    "            exp[f\"std_{varname}\"] = std\n",
    "            exp[f\"normalized_{varname}\"] = (val - mean) / std\n",
    "            val_full = exp[varname]\n",
    "            exp[f\"normalized_{varname}_full\"] = (val_full - np.nanmean(val_full)) / np.nanstd(val_full)"
   ]
  },
  {
   "cell_type": "markdown",
   "id": "b4940ba9-a70d-416a-83da-351302bf2af3",
   "metadata": {},
   "source": [
    "## Yield averages over simulation period"
   ]
  },
  {
   "cell_type": "markdown",
   "id": "e737ee76-5a5a-4ad7-9e3b-9ab5578f20f2",
   "metadata": {},
   "source": [
    "### R-squared"
   ]
  },
  {
   "cell_type": "code",
   "execution_count": null,
   "id": "7225bf48-8297-470a-b1ec-3848501a83fe",
   "metadata": {},
   "outputs": [],
   "source": [
    "residuals = np.array([exp[\"mean_grain_yield_obs\"] - exp[\"mean_grain_yield\"] for exp in data.values()])\n",
    "rss = np.sum(residuals**2)\n",
    "observations = np.array([exp[\"mean_grain_yield_obs\"] for exp in data.values()])\n",
    "ss = np.sum((observations - np.mean(observations))**2)\n",
    "r_squared = 1 - rss/ss\n",
    "print(f\"R-Squared for grain yields: {r_squared}\")"
   ]
  },
  {
   "cell_type": "markdown",
   "id": "bbb39ef4-d8ca-42eb-b06d-b8f6316aedff",
   "metadata": {},
   "source": [
    "### Plots comparing observed and predicted yield averages"
   ]
  },
  {
   "cell_type": "raw",
   "id": "ef399852-78b9-4cf8-a863-3f6a77f03b09",
   "metadata": {
    "jupyter": {
     "source_hidden": true
    },
    "scrolled": true
   },
   "source": [
    "for k, exp in sorted(data.items()):\n",
    "    x = [exp[\"mean_grain_yield_obs\"]]\n",
    "    y = [exp[\"mean_grain_yield\"]]\n",
    "    xerr = [exp[\"std_grain_yield_obs\"]]\n",
    "    yerr = [exp[\"std_grain_yield\"]]\n",
    "    plt.errorbar(x, y, xerr=xerr, yerr=yerr, marker=\"o\", linestyle=\"none\", label=k)\n",
    "plt.plot([0,300], [0,300], \"k--\")\n",
    "plt.annotate(\"$x = y$\", (5, -10))\n",
    "plt.xlabel(r\"Observed grain yields in $gC \\ / \\ m^2$\")\n",
    "plt.ylabel(r\"Predicted grain yields in $gC \\ / \\ m^2$\")\n",
    "plt.title(\"Grain yields\")\n",
    "plt.legend(fontsize=\"x-small\", bbox_to_anchor=(1.3, 0.75))\n",
    "# plt.legend(loc=\"best\", fontsize=\"x-small\"\n",
    "sns.despine()\n",
    "plt.savefig(\"grain_yields.png\")\n",
    "plt.savefig(\"grain_yields.svg\")"
   ]
  },
  {
   "cell_type": "raw",
   "id": "8db6cd5a-d8cf-46c7-82c9-d6cd3949ee4f",
   "metadata": {
    "jupyter": {
     "source_hidden": true
    },
    "scrolled": true
   },
   "source": [
    "for k, exp in sorted(data.items()):\n",
    "    x = [exp[\"mean_straw_yield_obs\"]]\n",
    "    y = [exp[\"mean_straw_yield\"]]\n",
    "    xerr = [exp[\"std_straw_yield_obs\"]]\n",
    "    yerr = [exp[\"std_straw_yield\"]]\n",
    "    plt.errorbar(x, y, xerr=xerr, yerr=yerr, marker=\"o\", linestyle=\"none\", label=k)\n",
    "plt.plot([0,210], [0,210], \"k--\")\n",
    "plt.annotate(\"$x = y$\", (12, 0))\n",
    "plt.xlabel(r\"Observed straw yields in $gC \\ / \\ m^2$\")\n",
    "plt.ylabel(r\"Predicted straw yields in $gC \\ / \\ m^2$\")\n",
    "plt.title(\"Mean straw yields\")\n",
    "plt.legend(loc=\"best\", fontsize=\"x-small\")\n",
    "sns.despine()\n",
    "plt.savefig(\"straw_yields.svg\")\n",
    "plt.savefig(\"straw_yields.png\")"
   ]
  },
  {
   "cell_type": "code",
   "execution_count": null,
   "id": "ed31691f-0c53-4302-994c-a0d4ecc0d74d",
   "metadata": {},
   "outputs": [],
   "source": [
    "sns.set(font_scale=1.7)\n",
    "sns.set_style(\"white\")\n",
    "fig, axs = plt.subplots(1, 2, figsize=(16, 8))\n",
    "markers = cycle(['o', '+', 'x', '*', 'X'])\n",
    "# cmap = sns.color_palette('husl', len(data))\n",
    "cmap = plt.get_cmap('tab10')\n",
    "for i, (k, exp) in enumerate(reversed(sorted(data.items(), key=lambda x: x[1][\"mean_grain_yield_obs\"]))):\n",
    "    label = k[k.find('_') + 1:]\n",
    "    x = [exp[\"mean_grain_yield_obs\"]]\n",
    "    y = [exp[\"mean_grain_yield\"]]\n",
    "    xerr = [exp[\"std_grain_yield_obs\"]]\n",
    "    yerr = [exp[\"std_grain_yield\"]]\n",
    "    m = next(markers)\n",
    "    axs[0].errorbar(x, y, xerr=xerr, yerr=yerr, marker=m, color=cmap(i), linestyle=\"none\", label=label, markersize=6)\n",
    "    x = [exp[\"mean_straw_yield_obs\"]]\n",
    "    y = [exp[\"mean_straw_yield\"]]\n",
    "    xerr = [exp[\"std_straw_yield_obs\"]]\n",
    "    yerr = [exp[\"std_straw_yield\"]]\n",
    "    axs[1].errorbar(x, y, xerr=xerr, yerr=yerr, marker=m, color=cmap(i), linestyle=\"none\", label=label, markersize=6)\n",
    "axs[0].plot([0,300], [0,300], \"k--\")\n",
    "axs[1].plot([0,210], [0,210], \"k--\")\n",
    "axs[0].annotate(\"$x = y$\", (5, -10))\n",
    "axs[1].annotate(\"$x = y$\", (12, 0))\n",
    "axs[0].set_xlabel(r\"Observed grain yields in $gC \\ / \\ m^2$\")\n",
    "axs[1].set_xlabel(r\"Observed straw yields in $gC \\ / \\ m^2$\")\n",
    "axs[0].set_ylabel(r\"Predicted grain yields in $gC \\ / \\ m^2$\")\n",
    "axs[1].set_ylabel(r\"Predicted straw yields in $gC \\ / \\ m^2$\")\n",
    "axs[0].set_title(\"Grain yields\")\n",
    "axs[1].set_title(\"Straw yields\")\n",
    "axs[1].legend(fontsize=\"small\", bbox_to_anchor=(1.2, 0.75), title=\"Treatment\")\n",
    "plt.tight_layout()\n",
    "# plt.legend(loc=\"best\", fontsize=\"x-small\"\n",
    "sns.despine()\n",
    "plt.savefig(\"both_yields.png\")\n",
    "#plt.savefig(\"grain_yields.svg\")"
   ]
  },
  {
   "cell_type": "markdown",
   "id": "da6666c9-259f-483f-9bd6-63dc7743c45a",
   "metadata": {},
   "source": [
    "## Correlations of inter-annual yield variations"
   ]
  },
  {
   "cell_type": "markdown",
   "id": "edad496f-a849-4c7c-9050-cf145add3648",
   "metadata": {},
   "source": [
    "### Plotting yields over time"
   ]
  },
  {
   "cell_type": "markdown",
   "id": "f646b968-6e3a-4bdc-a009-cab97dbc4f1b",
   "metadata": {},
   "source": [
    "#### Grain yields"
   ]
  },
  {
   "cell_type": "code",
   "execution_count": null,
   "id": "5bcd9942-10cb-49cc-a83d-f7baa76adca0",
   "metadata": {
    "scrolled": true
   },
   "outputs": [],
   "source": [
    "annual_grain_yield_means = np.mean(np.vstack([exp[\"normalized_grain_yield_full\"] for exp in data.values()]), 0)\n",
    "annual_grain_yield_means_obs = np.mean(np.vstack([exp[\"normalized_grain_yield_obs_full\"] for exp in data.values()]), 0)\n",
    "annual_grain_yield_std = np.std(np.vstack([exp[\"normalized_grain_yield_full\"] for exp in data.values()]), 0)\n",
    "annual_grain_yield_std_obs = np.std(np.vstack([exp[\"normalized_grain_yield_obs_full\"] for exp in data.values()]), 0)"
   ]
  },
  {
   "cell_type": "code",
   "execution_count": null,
   "id": "d9a04a5e-4521-465d-9278-46e8a6f594a9",
   "metadata": {
    "scrolled": true
   },
   "outputs": [],
   "source": [
    "plt.figure(figsize=(8, 6))\n",
    "plt.plot(data[\"22_Fym\"][\"years_dt\"], annual_grain_yield_means, label=\"predicted\")\n",
    "plt.plot(data[\"22_Fym\"][\"years_dt\"], annual_grain_yield_means_obs, label=\"observed\")\n",
    "plt.fill_between(data[\"22_Fym\"][\"years_dt\"], annual_grain_yield_means-annual_grain_yield_std, annual_grain_yield_means+annual_grain_yield_std, alpha=0.1)\n",
    "plt.fill_between(data[\"22_Fym\"][\"years_dt\"], annual_grain_yield_means_obs-annual_grain_yield_std_obs, annual_grain_yield_means_obs+annual_grain_yield_std_obs, alpha=0.1)\n",
    "# plt.plot(data[\"22_Fym\"][\"years_dt\"], normalize(temp_yearly[:-1]), \"k--\", label=\"temperature\")\n",
    "# plt.plot(data[\"22_Fym\"][\"years_dt\"], normalize(prec_yearly[:-1]), \"r--\", label=\"temperature\")\n",
    "plt.xlabel(\"Year\")\n",
    "plt.ylabel(\"Deviation from mean [std]\")\n",
    "plt.title(\"Grain yields over time\")\n",
    "plt.legend(loc=\"best\", fontsize=\"small\")\n",
    "sns.despine()\n",
    "plt.tight_layout()\n",
    "plt.savefig(\"grain_yields_annual.svg\")\n",
    "plt.savefig(\"grain_yields_annual.png\")"
   ]
  },
  {
   "cell_type": "markdown",
   "id": "01f43ff4-7c33-4a02-801c-ea17d623e12a",
   "metadata": {},
   "source": [
    "#### Straw yields"
   ]
  },
  {
   "cell_type": "code",
   "execution_count": null,
   "id": "1728feae-b28e-44c8-b76a-e99b4395f651",
   "metadata": {
    "scrolled": true
   },
   "outputs": [],
   "source": [
    "annual_straw_yield_means = np.mean(np.vstack([exp[\"normalized_straw_yield_full\"] for exp in data.values()]), 0)\n",
    "annual_straw_yield_means_obs = np.mean(np.vstack([exp[\"normalized_straw_yield_obs_full\"] for exp in data.values()]), 0)\n",
    "annual_straw_yield_std = np.std(np.vstack([exp[\"normalized_straw_yield_full\"] for exp in data.values()]), 0)\n",
    "annual_straw_yield_std_obs = np.std(np.vstack([exp[\"normalized_straw_yield_obs_full\"] for exp in data.values()]), 0)"
   ]
  },
  {
   "cell_type": "markdown",
   "id": "2833979a-6425-4b5e-8ffe-2918b1bbf82c",
   "metadata": {},
   "source": [
    "Note that for treatment \"22 FYM\", year 1987 has no recorded straw yield, causing a gap in the below plot"
   ]
  },
  {
   "cell_type": "code",
   "execution_count": null,
   "id": "765523f1-0181-4be2-a4fb-7d5a5e7c9c97",
   "metadata": {},
   "outputs": [],
   "source": [
    "data[\"22_Fym\"][\"years_dt\"][np.isnan(annual_straw_yield_means_obs)]"
   ]
  },
  {
   "cell_type": "code",
   "execution_count": null,
   "id": "5ad96104-b8d3-4a73-9bb2-ebec24a28867",
   "metadata": {
    "scrolled": true
   },
   "outputs": [],
   "source": [
    "plt.plot(data[\"22_Fym\"][\"years_dt\"], annual_straw_yield_means, label=\"predicted\")\n",
    "plt.plot(data[\"22_Fym\"][\"years_dt\"], annual_straw_yield_means_obs, label=\"observed\")\n",
    "plt.fill_between(data[\"22_Fym\"][\"years_dt\"], annual_straw_yield_means-annual_grain_yield_std, annual_straw_yield_means+annual_straw_yield_std, alpha=0.1)\n",
    "plt.fill_between(data[\"22_Fym\"][\"years_dt\"], annual_straw_yield_means_obs-annual_grain_yield_std_obs, annual_straw_yield_means_obs+annual_straw_yield_std_obs, alpha=0.1)\n",
    "plt.xlabel(\"Year\")\n",
    "plt.ylabel(\"Deviation from mean [std]\")\n",
    "plt.title(\"Straw yields over time\")\n",
    "plt.legend(loc=\"best\", fontsize=\"small\")\n",
    "sns.despine()\n",
    "plt.savefig(\"straw_yields_annual.svg\")\n",
    "plt.savefig(\"straw_yields_annual.png\")"
   ]
  },
  {
   "cell_type": "code",
   "execution_count": null,
   "id": "01cff634-f5e6-4a3a-8ff4-0a8680fb2340",
   "metadata": {},
   "outputs": [],
   "source": [
    "plt.figure(figsize=(10,8))\n",
    "for i, (name, exp) in enumerate(reversed(sorted(data.items(), key=lambda x:x[1][\"mean_grain_yield\"]))):\n",
    "    plt.scatter(exp[\"grain_yield_obs\"], exp[\"grain_yield\"], label=name)\n",
    "plt.plot([0,300], [0,300], \"k--\")\n",
    "plt.title(\"Grain yields - individual years and treatments\")\n",
    "plt.xlabel(r\"Observed grain yields in $gC / m^2$\")\n",
    "plt.ylabel(r\"Prediced grain yields in $gC / m^2$\")\n",
    "plt.legend(loc=\"best\", title=\"Treatment\")\n",
    "plt.tight_layout()\n",
    "plt.savefig(\"grain_yields_individual_years.png\")"
   ]
  },
  {
   "cell_type": "code",
   "execution_count": null,
   "id": "e7efcd93-d852-4f9f-95e3-aa4e2a094059",
   "metadata": {},
   "outputs": [],
   "source": [
    "plt.figure(figsize=(12,8))\n",
    "cmap = plt.get_cmap(\"tab10\")\n",
    "for i, (name, exp) in enumerate(sorted(data.items(), key=lambda x:x[1][\"mean_grain_yield_obs\"])):\n",
    "    pcc = np.corrcoef(exp[\"grain_yield\"], exp[\"grain_yield_obs\"])[0,1]\n",
    "    plt.plot(exp[\"years_dt\"], 4*i + normalize(exp[\"grain_yield\"]), label=f\"{name} ({pcc:.2f})\", color=cmap(i))\n",
    "    plt.plot(exp[\"years_dt\"], 4*i + normalize(exp[\"grain_yield_obs\"]), linestyle=\"--\", color=cmap(i))\n",
    "plt.title(\"Annual grain yields - individual treatments, normalized\")\n",
    "plt.xlabel(r\"Year\")\n",
    "plt.ylabel(r\"Grain yields in $gC / m^2$\")\n",
    "plt.legend(loc=\"best\", bbox_to_anchor=(1.05, 1))\n",
    "plt.tight_layout()\n",
    "plt.savefig(\"annual_grain_yields_individual.png\")"
   ]
  },
  {
   "cell_type": "markdown",
   "id": "003319a0-974b-4d81-a0d0-cebb2adb82d9",
   "metadata": {
    "jp-MarkdownHeadingCollapsed": true
   },
   "source": [
    "### Individual series\n",
    "\n",
    "As an example: Treatment 21 FymN2"
   ]
  },
  {
   "cell_type": "code",
   "execution_count": null,
   "id": "1fe6b72e-0c25-45e3-b618-1365c77aaf0d",
   "metadata": {},
   "outputs": [],
   "source": [
    "exp = \"21_FymN2\"\n",
    "plt.plot(data[exp][\"years\"], data[exp][\"grain_yield\"])\n",
    "plt.plot(data[exp][\"years\"], data[exp][\"grain_yield_obs\"])"
   ]
  },
  {
   "cell_type": "markdown",
   "id": "e979620e-4d2f-4aa3-95dc-28c8a58faf9c",
   "metadata": {},
   "source": [
    "##### Plotting normalized data"
   ]
  },
  {
   "cell_type": "code",
   "execution_count": null,
   "id": "95f68489-a88f-4633-ad43-840a458d0fc7",
   "metadata": {
    "scrolled": true
   },
   "outputs": [],
   "source": [
    "plt.plot(normalize(data[exp][\"grain_yield\"][1:]))\n",
    "plt.plot(normalize(data[exp][\"grain_yield_obs\"][:-1]))"
   ]
  },
  {
   "cell_type": "markdown",
   "id": "7fd0ffcc-1f0a-449c-8d74-ecf2c33170d8",
   "metadata": {},
   "source": [
    "#### Pearson correlation coefficient\n",
    "We can calculate inter-annual correlations between observed and predicted yields, and test if shifting them by 1 or more year this improves (which could suggest some error in the way harvest years are logged)."
   ]
  },
  {
   "cell_type": "code",
   "execution_count": null,
   "id": "ffe84bed-170b-47ba-bc42-ffe0bc1fabee",
   "metadata": {},
   "outputs": [],
   "source": [
    "corr_0 = np.corrcoef(data[exp][\"grain_yield\"], data[exp][\"grain_yield_obs\"])[0,1]\n",
    "print(f\"Unshifted correlation coefficient: {corr_0:.4f}\")\n",
    "\n",
    "print(\"Correlation coefficient when moving predictions ahead in time by...\")\n",
    "for shift in range(1, 5):\n",
    "    pred = data[exp][\"grain_yield\"][shift:]\n",
    "    obs = data[exp][\"grain_yield_obs\"][:-shift]\n",
    "    corr = np.corrcoef(pred, obs)[0,1]\n",
    "    print(f\"... {shift} timestep{'' if shift==1 else 's'}: {corr:.4f}\")\n",
    "print(\"Correlation coefficient when moving predictions back in time by...\")\n",
    "for shift in range(1, 5):\n",
    "    pred = data[exp][\"grain_yield\"][:-shift]\n",
    "    obs = data[exp][\"grain_yield_obs\"][shift:]\n",
    "    corr = np.corrcoef(pred, obs)[0,1]\n",
    "    print(f\"... {shift} timestep{'' if shift==1 else 's'}: {corr:.4f}\")"
   ]
  },
  {
   "cell_type": "code",
   "execution_count": null,
   "id": "750aa5aa-046e-43e4-a787-3a8883952699",
   "metadata": {},
   "outputs": [],
   "source": [
    "for name, exp in data.items():\n",
    "    print(name)\n",
    "    print(np.corrcoef(exp[\"grain_yield_obs\"][:-1], exp[\"grain_yield\"][1:])[0,1])\n",
    "    print()"
   ]
  },
  {
   "cell_type": "code",
   "execution_count": null,
   "id": "0e31cc4b-89c8-4dc0-8a22-83913071920e",
   "metadata": {},
   "outputs": [],
   "source": [
    "corr_coeffs = [np.corrcoef(exp[\"grain_yield_obs\"][:], exp[\"grain_yield\"][:])[0,1] for exp in data.values()]"
   ]
  },
  {
   "cell_type": "code",
   "execution_count": null,
   "id": "11c7876f-8f03-4752-ba9b-8b663b44c422",
   "metadata": {},
   "outputs": [],
   "source": [
    "np.mean(corr_coeffs)"
   ]
  },
  {
   "cell_type": "markdown",
   "id": "d60110c5-ddf7-45e9-a284-0c546e2365be",
   "metadata": {},
   "source": [
    "#### Special case: N6PKMg\n",
    "\n",
    "This case is special in that the treatment changes in 1985. We see this reflected both in predictions and observations, resulting in a much higher correlation for this timeseries than for others."
   ]
  },
  {
   "cell_type": "code",
   "execution_count": null,
   "id": "db542800-e8e7-4b8e-9459-92219c649035",
   "metadata": {},
   "outputs": [],
   "source": [
    "plt.figure(figsize=(12,8))\n",
    "exp = data[\"16_N6PKMg\"]\n",
    "plt.plot(exp[\"years_dt\"], exp[\"grain_yield\"], label=\"predicted\")\n",
    "plt.plot(exp[\"years_dt\"], exp[\"grain_yield_obs\"], label=\"observed\")\n",
    "plt.title(\"Annual grain yields, treatment N6-P-K-Mg\")\n",
    "plt.xlabel(r\"Year\")\n",
    "plt.ylabel(r\"Grain yields in $gC / m^2$\")\n",
    "plt.axvline(np.datetime64(\"1985\"), color=\"k\", ls=\"--\")\n",
    "plt.legend(loc=\"best\") #, bbox_to_anchor=(1.05, 1))\n",
    "plt.tight_layout()\n",
    "plt.savefig(\"annual_grain_yields_N6PKMg.png\")"
   ]
  },
  {
   "cell_type": "markdown",
   "id": "af7eea83-6cf1-40f1-89c3-f4d5acf9b536",
   "metadata": {},
   "source": [
    "### Aggregates over treatments"
   ]
  },
  {
   "cell_type": "markdown",
   "id": "11de5f5b-ca2b-4ef4-b9ca-e434282cb704",
   "metadata": {
    "jp-MarkdownHeadingCollapsed": true
   },
   "source": [
    "#### Pearson correlation coefficient of normalized series"
   ]
  },
  {
   "cell_type": "code",
   "execution_count": null,
   "id": "79186dd0-91ae-4c5f-b2b0-1a4e027e7bf9",
   "metadata": {
    "scrolled": true
   },
   "outputs": [],
   "source": [
    "annual_grain_yield_means = np.mean(np.vstack([exp[\"normalized_grain_yield\"] for exp in data.values()]), 0)\n",
    "annual_grain_yield_means_obs = np.mean(np.vstack([exp[\"normalized_grain_yield_obs\"] for exp in data.values()]), 0)\n",
    "annual_grain_yield_std = np.std(np.vstack([exp[\"normalized_grain_yield\"] for exp in data.values()]), 0)\n",
    "annual_grain_yield_std_obs = np.std(np.vstack([exp[\"normalized_grain_yield_obs\"] for exp in data.values()]), 0)"
   ]
  },
  {
   "cell_type": "code",
   "execution_count": null,
   "id": "5e9ff1c2-d17e-482b-9214-564f21ff5632",
   "metadata": {},
   "outputs": [],
   "source": [
    "corr = np.corrcoef(annual_grain_yield_means, annual_grain_yield_means_obs)[0,1]\n",
    "print(f\"Pearson correlation: {corr:.4f}\")"
   ]
  },
  {
   "cell_type": "markdown",
   "id": "dd8ec9e7-1230-4a01-a5eb-eadde0277422",
   "metadata": {},
   "source": [
    "##### Significance of correlation"
   ]
  },
  {
   "cell_type": "code",
   "execution_count": null,
   "id": "07d0b968-f2fc-44d4-a473-c6ad9aca61eb",
   "metadata": {},
   "outputs": [],
   "source": [
    "count=0\n",
    "N = 10000\n",
    "for i in range(N):\n",
    "    perm = np.random.permutation(annual_grain_yield_means_obs)\n",
    "    if np.abs(np.corrcoef(annual_grain_yield_means, perm)[0,1]) > np.abs(corr):\n",
    "        count += 1\n",
    "print(f\"p-value of the correlation coefficient (two-sided): {count / N:.3f}\")"
   ]
  },
  {
   "cell_type": "markdown",
   "id": "eb249542-e550-4942-b69f-14d6b59fdda6",
   "metadata": {
    "jp-MarkdownHeadingCollapsed": true
   },
   "source": [
    "#### Normalizing by values at t=0 (1976)"
   ]
  },
  {
   "cell_type": "code",
   "execution_count": null,
   "id": "6fafc51d-5983-4021-998e-2d6051cafbd0",
   "metadata": {
    "scrolled": true
   },
   "outputs": [],
   "source": [
    "annual_grain_yield_0 = np.mean(np.vstack([exp[\"grain_yield\"] / exp[\"grain_yield\"][0] for exp in data.values()]), 0)\n",
    "annual_grain_yield_0_obs = np.mean(np.vstack([exp[\"grain_yield_obs\"] / exp[\"grain_yield_obs\"][0] for exp in data.values()]), 0)"
   ]
  },
  {
   "cell_type": "code",
   "execution_count": null,
   "id": "41964119-cb25-4777-8b03-2c1a71ec3328",
   "metadata": {},
   "outputs": [],
   "source": [
    "plt.plot(data[\"22_Fym\"][\"years_dt\"], annual_grain_yield_0)\n",
    "plt.plot(data[\"22_Fym\"][\"years_dt\"], annual_grain_yield_0_obs)"
   ]
  },
  {
   "cell_type": "code",
   "execution_count": null,
   "id": "0e5b6bee-eb67-4ef1-a5fd-374181f59ae1",
   "metadata": {},
   "outputs": [],
   "source": [
    "corr = np.corrcoef(annual_grain_yield_0, annual_grain_yield_0_obs)[0,1]\n",
    "print(f\"Pearson correlation: {corr:.4f}\")"
   ]
  },
  {
   "cell_type": "markdown",
   "id": "c5ae58f8-077b-4318-9bcc-eb2a89ab1b2e",
   "metadata": {
    "jp-MarkdownHeadingCollapsed": true
   },
   "source": [
    "#### Correlation, shifted and normalized by mean"
   ]
  },
  {
   "cell_type": "code",
   "execution_count": null,
   "id": "c86f1860-5bd5-4dee-8829-56680ce129cc",
   "metadata": {},
   "outputs": [],
   "source": [
    "def norm_by_mean(x):\n",
    "    return (x-np.mean(x)) / np.mean(x)"
   ]
  },
  {
   "cell_type": "code",
   "execution_count": null,
   "id": "ec5f87c4-61aa-4088-bf21-28a35427dde6",
   "metadata": {
    "scrolled": true
   },
   "outputs": [],
   "source": [
    "annual_grain_yield_mm = np.mean(np.vstack([norm_by_mean(exp[\"grain_yield\"]) for exp in data.values()]), 0)\n",
    "annual_grain_yield_mm_obs = np.mean(np.vstack([norm_by_mean(exp[\"grain_yield_obs\"]) for exp in data.values()]), 0)"
   ]
  },
  {
   "cell_type": "code",
   "execution_count": null,
   "id": "dcbc2dfa-55d1-4f36-b62c-ca54f3dd0b5c",
   "metadata": {},
   "outputs": [],
   "source": [
    "plt.plot(data[\"22_Fym\"][\"years_dt\"], annual_grain_yield_mm)\n",
    "plt.plot(data[\"22_Fym\"][\"years_dt\"], annual_grain_yield_mm_obs)"
   ]
  },
  {
   "cell_type": "code",
   "execution_count": null,
   "id": "8d492902-e942-45d6-8dcc-906d4853aee6",
   "metadata": {},
   "outputs": [],
   "source": [
    "corr = np.corrcoef(annual_grain_yield_mm, annual_grain_yield_mm_obs)[0,1]\n",
    "print(f\"Pearson correlation: {corr:.4f}\")"
   ]
  },
  {
   "cell_type": "markdown",
   "id": "0a3f9b84-4f76-4279-8fbb-1586e50eff26",
   "metadata": {
    "jp-MarkdownHeadingCollapsed": true
   },
   "source": [
    "#### Correlation, only mean-shifted"
   ]
  },
  {
   "cell_type": "code",
   "execution_count": null,
   "id": "8d005f29-3ae9-4cb9-9032-fe079d638337",
   "metadata": {},
   "outputs": [],
   "source": [
    "def shift_by_mean(x):\n",
    "    return x-np.mean(x)"
   ]
  },
  {
   "cell_type": "code",
   "execution_count": null,
   "id": "70381660-d18f-4642-8b32-d880e26789bc",
   "metadata": {
    "scrolled": true
   },
   "outputs": [],
   "source": [
    "annual_grain_yield_ms = np.mean(np.vstack([shift_by_mean(exp[\"grain_yield\"]) for exp in data.values()]), 0)\n",
    "annual_grain_yield_ms_obs = np.mean(np.vstack([shift_by_mean(exp[\"grain_yield_obs\"]) for exp in data.values()]), 0)"
   ]
  },
  {
   "cell_type": "code",
   "execution_count": null,
   "id": "0ed377c1-5d81-4eea-b0e1-002518b73394",
   "metadata": {},
   "outputs": [],
   "source": [
    "plt.plot(data[\"22_Fym\"][\"years_dt\"], annual_grain_yield_ms)\n",
    "plt.plot(data[\"22_Fym\"][\"years_dt\"], annual_grain_yield_ms_obs)"
   ]
  },
  {
   "cell_type": "code",
   "execution_count": null,
   "id": "4ac7987d-3b06-4cb0-8735-ffc225f7b64a",
   "metadata": {},
   "outputs": [],
   "source": [
    "corr = np.corrcoef(annual_grain_yield_ms, annual_grain_yield_ms_obs)[0,1]\n",
    "print(f\"Pearson correlation: {corr:.4f}\")"
   ]
  },
  {
   "cell_type": "markdown",
   "id": "4f199580-7ad0-4358-a661-1ad84964c826",
   "metadata": {
    "jp-MarkdownHeadingCollapsed": true
   },
   "source": [
    "### Correlation across (all) individual points (instead of aggregates across treatments)"
   ]
  },
  {
   "cell_type": "code",
   "execution_count": null,
   "id": "3505f780-de6d-4bbc-8762-7a7f150036d2",
   "metadata": {},
   "outputs": [],
   "source": [
    "all_gym = np.hstack([exp[\"normalized_grain_yield\"][1:] for exp in data.values()])\n",
    "all_gym_o = np.hstack([exp[\"normalized_grain_yield_obs\"][:-1] for exp in data.values()])\n",
    "corr_all = np.corrcoef(all_gym, all_gym_o)[0,1]"
   ]
  },
  {
   "cell_type": "code",
   "execution_count": null,
   "id": "0b5d23b9-0ed7-4693-bcac-2bfb0aa00c02",
   "metadata": {},
   "outputs": [],
   "source": [
    "count=0\n",
    "N = 10000\n",
    "for i in range(N):\n",
    "    perm = np.random.permutation(all_gym_o)\n",
    "    if np.corrcoef(all_gym, perm)[0,1] > corr_all:\n",
    "        count += 1\n",
    "print(f\"p-value of the correlation coefficient (one-sided): {count / N:.3f}\")"
   ]
  },
  {
   "cell_type": "markdown",
   "id": "3bf14f1c-6ad6-4006-a01d-791d21e8ea40",
   "metadata": {},
   "source": [
    "#### Applying 5-year moving window"
   ]
  },
  {
   "cell_type": "code",
   "execution_count": null,
   "id": "b37331cf-e6cd-44a3-9128-e1b97880fd1f",
   "metadata": {},
   "outputs": [],
   "source": [
    "window_size = 5\n",
    "ag5 = np.lib.stride_tricks.sliding_window_view(\n",
    "    annual_grain_yield_means, window_shape=5).mean(1)\n",
    "ag5_obs = np.lib.stride_tricks.sliding_window_view(\n",
    "    annual_grain_yield_means_obs, window_shape=5).mean(1)"
   ]
  },
  {
   "cell_type": "raw",
   "id": "0c1ae5dc-8779-43f2-b3f1-a9330a169209",
   "metadata": {},
   "source": [
    "# Above code is same as:\n",
    "window_size = 5\n",
    "ag5 = np.asarray(\n",
    "    [\n",
    "        annual_grain_yield_means[i:i+window_size]\n",
    "        for i in range(len(annual_grain_yield_means)-window_size+1)\n",
    "    ]\n",
    ")"
   ]
  },
  {
   "cell_type": "code",
   "execution_count": null,
   "id": "7319bd69-ece4-4c4b-a0cc-4507f2bde484",
   "metadata": {},
   "outputs": [],
   "source": [
    "plt.plot(ag5)\n",
    "plt.plot(ag5_obs)"
   ]
  },
  {
   "cell_type": "markdown",
   "id": "bf2e002e-79b7-4abe-ab58-22188b8e438e",
   "metadata": {},
   "source": [
    "## Soil SOC and N"
   ]
  },
  {
   "cell_type": "markdown",
   "id": "2815535e-6bfe-4829-b4d6-fdff8cbf5be0",
   "metadata": {},
   "source": [
    "### SOC\n"
   ]
  },
  {
   "cell_type": "code",
   "execution_count": null,
   "id": "97e786ca-9901-40a8-94b2-ec81234ecff8",
   "metadata": {},
   "outputs": [],
   "source": [
    "# First define for which experiments there is observational SOC data\n",
    "soc_expmts = [exp for exp in data.values() if \"SOC_obs\" in exp]\n",
    "soc_expmts_dict = {k: exp for k, exp in data.items() if \"SOC_obs\" in exp}\n",
    "years_dt = soc_expmts[0][\"years_dt\"]\n",
    "assert all((exp[\"years_dt\"] == years_dt).all() for exp in soc_expmts)"
   ]
  },
  {
   "cell_type": "markdown",
   "id": "917ef1a2-90a5-44a1-bd86-323f9622e726",
   "metadata": {},
   "source": [
    "### Temporal averages for individual treatments"
   ]
  },
  {
   "cell_type": "code",
   "execution_count": null,
   "id": "0f8c8f31-f9fb-4ce8-afc8-ae1ca6fb3921",
   "metadata": {
    "scrolled": true
   },
   "outputs": [],
   "source": [
    "for k, exp in soc_expmts_dict.items():\n",
    "    x = [np.mean(exp[\"SOC_obs\"]) * 100]\n",
    "    y = [np.mean(exp[\"SOC\"]) * 100]\n",
    "    xerr = [np.std(exp[\"SOC_obs\"]) * 100]\n",
    "    yerr = [np.std(exp[\"SOC\"]) * 100]\n",
    "    plt.errorbar(x, y, xerr=xerr, yerr=yerr, marker=\"o\", linestyle=\"none\", label=k)\n",
    "plt.plot([0,2.5], [0,2.5], \"k--\")\n",
    "# plt.annotate(\"$x = y$\", (12, 0))\n",
    "plt.xlabel(\"Observed SOC in per cent\")\n",
    "plt.ylabel(\"Predicted SOC in per cent\")\n",
    "plt.title(\"SOC\")\n",
    "plt.legend(loc=\"best\", fontsize=\"x-small\")\n",
    "sns.despine()\n",
    "plt.savefig(\"soc.svg\")\n",
    "plt.savefig(\"soc.png\")"
   ]
  },
  {
   "cell_type": "markdown",
   "id": "bbd1e834-a48a-464c-a088-c1c98f2e749c",
   "metadata": {},
   "source": [
    "### Evolution over time"
   ]
  },
  {
   "cell_type": "code",
   "execution_count": null,
   "id": "24f79cc4-cf58-47ca-b8b7-ef7feb2f9aee",
   "metadata": {},
   "outputs": [],
   "source": [
    "# Means over time\n",
    "mean_soc = np.mean(np.vstack([exp[\"SOC\"] for exp in soc_expmts]), 1)\n",
    "mean_soc_obs = np.mean(np.vstack([exp[\"SOC_obs\"] for exp in soc_expmts]), 1)\n",
    "\n",
    "# Annual means of normalized values across experiments\n",
    "mean_soc_annual = np.mean(np.vstack([normalize(exp[\"SOC\"]) for exp in soc_expmts]), 0)\n",
    "mean_soc_obs_annual = np.mean(np.vstack([normalize(exp[\"SOC_obs\"]) for exp in soc_expmts]), 0)\n",
    "\n",
    "plt.plot(years_dt, mean_soc_annual)\n",
    "plt.plot(soc[\"years\"], mean_soc_obs_annual)"
   ]
  },
  {
   "cell_type": "markdown",
   "id": "e7a1a438-1e84-4a8d-9b5c-47d14d0db2df",
   "metadata": {},
   "source": [
    "#### Plotting time series individually"
   ]
  },
  {
   "cell_type": "code",
   "execution_count": null,
   "id": "ecdaf9af-e68d-4127-a658-b5c112f9f12c",
   "metadata": {
    "scrolled": true
   },
   "outputs": [],
   "source": [
    "for name, exp in data.items():\n",
    "    if not \"SOC_obs\" in exp:\n",
    "        continue\n",
    "    plt.figure()\n",
    "    plt.title(name)\n",
    "    plt.plot(soc[\"years\"], exp[\"SOC_obs\"])\n",
    "    plt.plot(exp[\"years_dt\"], exp[\"SOC\"])\n",
    "    plt.ylim(0, max(exp[\"SOC\"]) * 1.5)"
   ]
  },
  {
   "cell_type": "code",
   "execution_count": null,
   "id": "8405a332-2050-4048-8664-b5cb7e0184c4",
   "metadata": {},
   "outputs": [],
   "source": [
    "# exp = data[\"21_FymN2\"]\n",
    "fig, ax = plt.subplots()\n",
    "for name, exp in data.items():\n",
    "    if \"SOC_obs\" in exp:\n",
    "        color = ax._get_lines.get_next_color()\n",
    "        plt.plot(exp[\"years_dt\"], normalize(exp[\"SOC\"]), color=color, label=name)\n",
    "        # plt.plot(exp[\"days_dt\"], normalize(exp[\"SOC_daily\"]))\n",
    "        plt.plot(soc[\"years\"], normalize(exp[\"SOC_obs\"]), color=color, linestyle=\"dotted\")\n",
    "plt.legend(loc=\"best\")"
   ]
  },
  {
   "cell_type": "markdown",
   "id": "ee1c401b-630c-4857-b006-fc35e202b936",
   "metadata": {},
   "source": [
    "### Soil N"
   ]
  },
  {
   "cell_type": "code",
   "execution_count": null,
   "id": "7cc36102-928a-4ae5-8793-7ee1d15c955c",
   "metadata": {},
   "outputs": [],
   "source": [
    "soil_n_expmts = [exp for exp in data.values() if \"soil_N_obs\" in exp]\n",
    "soil_n_expmts_dict = {k: exp for k, exp in data.items() if \"soil_N_obs\" in exp}\n",
    "years_dt = soil_n_expmts[0][\"years_dt\"]\n",
    "assert all((exp[\"years_dt\"] == years_dt).all() for exp in soil_n_expmts)\n"
   ]
  },
  {
   "cell_type": "markdown",
   "id": "1e01a374-2568-4c35-a690-375faa5792fb",
   "metadata": {},
   "source": [
    "### Temporal averages for individual treatments"
   ]
  },
  {
   "cell_type": "code",
   "execution_count": null,
   "id": "a0ce976f-b9b1-4960-8a14-a02fc9bd9f58",
   "metadata": {
    "scrolled": true
   },
   "outputs": [],
   "source": [
    "for k, exp in soil_n_expmts_dict.items():\n",
    "    x = [np.mean(exp[\"soil_N_obs\"]) * 100]\n",
    "    y = [np.mean(exp[\"soil_N\"]) * 100]\n",
    "    xerr = [np.std(exp[\"soil_N_obs\"]) * 100]\n",
    "    yerr = [np.std(exp[\"soil_N\"]) * 100]\n",
    "    plt.errorbar(x, y, xerr=xerr, yerr=yerr, marker=\"o\", linestyle=\"none\", label=k)\n",
    "plt.plot([0,0.4], [0,0.4], \"k--\")\n",
    "plt.annotate(\"$x = y$\", (0.025, 0))\n",
    "plt.xlabel(\"Observed soil N in per cent\"\n",
    "          )\n",
    "plt.ylabel(\"Predicted soil N in per cent\")\n",
    "plt.title(\"Soil Nitrogen\")\n",
    "plt.legend(loc=\"best\", fontsize=\"x-small\")\n",
    "sns.despine()\n",
    "plt.savefig(\"soil_n.svg\")\n",
    "plt.savefig(\"soil_n.png\")"
   ]
  },
  {
   "cell_type": "markdown",
   "id": "0f8f8277-2cec-42b4-b0a1-694e5daed7d7",
   "metadata": {},
   "source": [
    "### Evolution over time"
   ]
  },
  {
   "cell_type": "code",
   "execution_count": null,
   "id": "76405713-3fba-428a-ad0c-e75ed1883c36",
   "metadata": {},
   "outputs": [],
   "source": [
    "# Means over time\n",
    "mean_soil_n = np.mean(np.vstack([exp[\"soil_N\"] for exp in soil_n_expmts]), 1)\n",
    "mean_soil_n_obs = np.mean(np.vstack([exp[\"soil_N_obs\"] for exp in soil_n_expmts]), 1)\n",
    "\n",
    "# Annual means of normalized values across experiments\n",
    "mean_soil_n_annual = np.mean(np.vstack([normalize(exp[\"soil_N\"]) for exp in soil_n_expmts]), 0)\n",
    "mean_soil_n_obs_annual = np.mean(np.vstack([normalize(exp[\"soil_N_obs\"]) for exp in soil_n_expmts]), 0)\n",
    "\n",
    "plt.plot(years_dt, mean_soil_n_annual)\n",
    "plt.plot(soil_N[\"years\"], mean_soil_n_obs_annual)"
   ]
  },
  {
   "cell_type": "markdown",
   "id": "ecef4743-d71a-4bb8-a25f-ce8cb912fe5f",
   "metadata": {},
   "source": [
    "### Plotting Soil N and SOC next to each other"
   ]
  },
  {
   "cell_type": "code",
   "execution_count": null,
   "id": "dedf66d7-004d-4c8d-ba2e-34a422c055e3",
   "metadata": {},
   "outputs": [],
   "source": [
    "sns.set(font_scale=1.7)\n",
    "sns.set_style(\"white\")\n",
    "fig, axs = plt.subplots(1, 2, figsize=(16, 8))\n",
    "markers = cycle(['*', 'x', 'o'])\n",
    "# cmap = sns.color_palette('husl', len(data))\n",
    "cmap = plt.get_cmap('tab10')\n",
    "color_idx = 0\n",
    "# for k, exp in reversed(sorted(data.items(), key=lambda x: x[1][\"SOC\"])):\n",
    "for k, exp in reversed(sorted(data.items())):\n",
    "    if \"SOC_obs\" in exp or \"soil_N_obs\" in exp:\n",
    "        label = k[k.find('_') + 1:]\n",
    "        m = next(markers)\n",
    "        c = cmap(color_idx)\n",
    "        color_idx += 1\n",
    "    if \"SOC_obs\" in exp:\n",
    "        print(\"SOC\", k)\n",
    "        x = [np.mean(exp[\"SOC_obs\"]) * 100]\n",
    "        y = [np.mean(exp[\"SOC\"]) * 100]\n",
    "        xerr = [np.std(exp[\"SOC_obs\"]) * 100]\n",
    "        yerr = [np.std(exp[\"SOC\"]) * 100]\n",
    "        axs[0].errorbar(x, y, xerr=xerr, yerr=yerr, marker=m, color=c, linestyle=\"none\", label=label, markersize=10)\n",
    "    if \"soil_N_obs\" in exp:\n",
    "        print(\"soil_N\", k)\n",
    "        x = [np.mean(exp[\"soil_N_obs\"]) * 100]\n",
    "        y = [np.mean(exp[\"soil_N\"]) * 100]\n",
    "        xerr = [np.std(exp[\"soil_N_obs\"]) * 100]\n",
    "        yerr = [np.std(exp[\"soil_N\"]) * 100]\n",
    "        axs[1].errorbar(x, y, xerr=xerr, yerr=yerr, marker=m, color=c, linestyle=\"none\", label=label, markersize=10)\n",
    "axs[0].plot([0,2.5], [0,2.5], \"k--\")\n",
    "axs[1].plot([0,0.4], [0,0.4], \"k--\")\n",
    "axs[0].annotate(\"$x = y$\", (0.25, 0))\n",
    "axs[1].annotate(\"$x = y$\", (0.025, 0))\n",
    "axs[0].set_xlabel(r\"Observed SOC in percent\")\n",
    "axs[1].set_xlabel(r\"Observed soil N in percent\")\n",
    "axs[0].set_ylabel(r\"Predicted SOC in percent\")\n",
    "axs[1].set_ylabel(r\"Predicted soil N in percent\")\n",
    "axs[0].set_title(\"SOC\")\n",
    "axs[1].set_title(\"Soil nitrogen\")\n",
    "axs[1].legend(fontsize=\"small\", bbox_to_anchor=(1.2, 0.75), title=\"Treatment\")\n",
    "plt.tight_layout()\n",
    "# plt.legend(loc=\"best\", fontsize=\"x-small\"\n",
    "sns.despine()\n",
    "plt.savefig(\"both_soil.png\")"
   ]
  },
  {
   "cell_type": "code",
   "execution_count": null,
   "id": "16ee4b72-5790-4210-ae1c-fe548b1c731a",
   "metadata": {},
   "outputs": [],
   "source": []
  }
 ],
 "metadata": {
  "kernelspec": {
   "display_name": "Python 3 (ipykernel)",
   "language": "python",
   "name": "python3"
  },
  "language_info": {
   "codemirror_mode": {
    "name": "ipython",
    "version": 3
   },
   "file_extension": ".py",
   "mimetype": "text/x-python",
   "name": "python",
   "nbconvert_exporter": "python",
   "pygments_lexer": "ipython3",
   "version": "3.11.9"
  }
 },
 "nbformat": 4,
 "nbformat_minor": 5
}
