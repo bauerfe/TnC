{
 "cells": [
  {
   "cell_type": "markdown",
   "id": "56febdca-259f-4ac1-8f26-bfd04830636d",
   "metadata": {},
   "source": [
    "# Rothamsted Spinup\n",
    "This notebook runs the whole spinup for the Rothamsted site, including:\n",
    "1. Pre-BG spinup\n",
    "2. BG spinup\n",
    "3. Full spinup\n",
    "\n",
    "## 0. Setup\n",
    "The following cells are useful to run, also before other stages of the spinup"
   ]
  },
  {
   "cell_type": "code",
   "execution_count": 102,
   "id": "3017f496-5f22-403f-8818-c0fcf0467052",
   "metadata": {
    "scrolled": true
   },
   "outputs": [],
   "source": [
    "clear all;\n",
    "% Add T&C Code directory to path so we don't need to navigate between folders from *within* the scripts\n",
    "addpath(\"T&C_CODE\");\n",
    "\n",
    "% Make sure this is the root folder of this project\n",
    "root_dir = cd;\n",
    "% Descriptor will be saved with all other variables and can be helpful to reconstruct what has been done\n",
    "descriptor = \"Set NPK reserves at planting such that there should be just no nutrient constrains, but not much higher\";\n",
    "% Some more information to compose the name of this experiment\n",
    "short_descriptor = 'porg006';\n",
    "timestamp = datestr(now, \"yy-mm-dd-HHMM\");\n",
    "id_location = 'Rothamsted';\n",
    "run_identifier = [timestamp '_' id_location '_' short_descriptor];\n",
    "\n",
    "% Location of parameters to be used in multiple stages of the spinup\n",
    "param_filename = ['MOD_PARAM_' id_location '_Spinup_common'];\n",
    "PARAM_IC = [root_dir filesep 'PARAMETER_PLOT_FILES' filesep param_filename];"
   ]
  },
  {
   "cell_type": "markdown",
   "id": "d2b248c8-3ba4-4860-ac10-f99276f66fd0",
   "metadata": {},
   "source": [
    "## 1. Pre-BG Spinup\n",
    "\n",
    "As a first step we run the spinup without the biogeochemistry module activated. For this we will use a truncated version of the prova-file, which does not specify the paths of the parameter and output files. We will do so ourselves and then call the main routine `MAIN_FRAME` directly from this notebook."
   ]
  },
  {
   "cell_type": "code",
   "execution_count": 103,
   "id": "35095183-63b0-4557-93f0-588a1d8f1a72",
   "metadata": {
    "scrolled": true
   },
   "outputs": [
    {
     "name": "stderr",
     "output_type": "stream",
     "text": [
      "Warning: Column headers from the file were modified to make them valid MATLAB identifiers before creating variable names for the table. The original column headers are saved in the VariableDescriptions property.\n",
      "Set 'VariableNamingRule' to 'preserve' to use the original column headers as table variable names."
     ]
    },
    {
     "name": "stdout",
     "output_type": "stream",
     "text": [
      "Iter:\n",
      "     2\n",
      "\n",
      "Iter:\n",
      "        1000\n",
      "\n",
      "Iter:\n",
      "        2000\n",
      "\n",
      "Iter:\n",
      "        3000\n",
      "\n",
      "Iter:\n",
      "        4000\n",
      "\n",
      "Iter:\n",
      "        5000\n",
      "\n",
      "Iter:\n",
      "        6000\n",
      "\n",
      "Iter:\n",
      "        7000\n",
      "\n",
      "Iter:\n",
      "        8000\n",
      "\n",
      "Iter:\n",
      "        9000\n",
      "\n",
      "Iter:\n",
      "       10000\n",
      "\n",
      "Iter:\n",
      "       11000\n",
      "\n",
      "Iter:\n",
      "       12000\n",
      "\n",
      "Iter:\n",
      "       13000\n",
      "\n",
      "Iter:\n",
      "       14000\n",
      "\n",
      "Iter:\n",
      "       15000\n",
      "\n",
      "Iter:\n",
      "       16000\n",
      "\n",
      "Iter:\n",
      "       17000\n",
      "\n",
      "Iter:\n",
      "       18000\n",
      "\n",
      "Iter:\n",
      "       19000\n",
      "\n",
      "Iter:\n",
      "       20000\n",
      "\n",
      "Iter:\n",
      "       21000\n",
      "\n",
      "Iter:\n",
      "       22000\n",
      "\n",
      "Iter:\n",
      "       23000\n",
      "\n",
      "Iter:\n",
      "       24000\n",
      "\n",
      "Iter:\n",
      "       25000\n",
      "\n",
      "Iter:\n",
      "       26000\n",
      "\n",
      "Iter:\n",
      "       27000\n",
      "\n",
      "Iter:\n",
      "       28000\n",
      "\n",
      "Iter:\n",
      "       29000\n",
      "\n",
      "Iter:\n",
      "       30000\n",
      "\n",
      "Iter:\n",
      "       31000\n",
      "\n",
      "Iter:\n",
      "       32000\n",
      "\n",
      "Iter:\n",
      "       33000\n",
      "\n",
      "Iter:\n",
      "       34000\n",
      "\n",
      "Iter:\n",
      "       35000\n",
      "\n",
      "Iter:\n",
      "       36000\n",
      "\n",
      "Iter:\n",
      "       37000\n",
      "\n",
      "Iter:\n",
      "       38000\n",
      "\n",
      "Iter:\n",
      "       39000\n",
      "\n",
      "Iter:\n",
      "       40000\n",
      "\n",
      "Iter:\n",
      "       41000\n",
      "\n",
      "Iter:\n",
      "       42000\n",
      "\n",
      "Iter:\n",
      "       43000\n",
      "\n",
      "Iter:\n",
      "       44000\n",
      "\n",
      "Iter:\n",
      "       45000\n",
      "\n",
      "Iter:\n",
      "       46000\n",
      "\n",
      "Iter:\n",
      "       47000\n",
      "\n",
      "Iter:\n",
      "       48000\n",
      "\n",
      "Iter:\n",
      "       49000\n",
      "\n",
      "Iter:\n",
      "       50000\n",
      "\n",
      "Iter:\n",
      "       51000\n",
      "\n",
      "Iter:\n",
      "       52000\n",
      "\n",
      "Iter:\n",
      "       53000\n",
      "\n",
      "Iter:\n",
      "       54000\n",
      "\n",
      "Iter:\n",
      "       55000\n",
      "\n",
      "Iter:\n",
      "       56000\n",
      "\n",
      "Iter:\n",
      "       57000\n",
      "\n",
      "Iter:\n",
      "       58000\n",
      "\n",
      "Iter:\n",
      "       59000\n",
      "\n",
      "Iter:\n",
      "       60000\n",
      "\n",
      "Iter:\n",
      "       61000\n",
      "\n",
      "COMPUTATIONAL TIME [h] \n",
      "    0.0773\n",
      "\n",
      " COMPUTATIONAL TIME [ms/cycle] \n",
      "    4.5367\n",
      "\n",
      "   1.0202e-09\n",
      "\n",
      "  -6.2264e-15\n",
      "\n"
     ]
    },
    {
     "name": "stderr",
     "output_type": "stream",
     "text": [
      "Warning: Directory already exists."
     ]
    }
   ],
   "source": [
    "% Run truncated prova file to perform standard initialization\n",
    "run(\"PARAMETER_PLOT_FILES\\prova_Rothamsted_Spinup\");\n",
    "\n",
    "%%%%%%%%%%%%%%%%%%%%%%%%%%%%\n",
    "MAIN_FRAME ;\n",
    "%%%%%%%%%%%%%%%%%%%%%%%%%%%%\n",
    "% cd(current_directory);\n",
    "%%%%%%%%%%%%%%%%%%%%%%%%%%%%%%\n",
    "initial_spinup_results_folder = ['results' filesep 'initial_spinup'];\n",
    "mkdir(initial_spinup_results_folder);\n",
    "initial_spinup_result_fn = [run_identifier '.mat'];\n",
    "initial_spinup_results_path = [initial_spinup_results_folder filesep initial_spinup_result_fn];\n",
    "save(initial_spinup_results_path);"
   ]
  },
  {
   "cell_type": "markdown",
   "id": "e195b630-234d-4c32-b255-aa24a5dcf24e",
   "metadata": {},
   "source": [
    "### 1.1 Calibration\n",
    "\n",
    "Here, we can compare some of the model outputs, such as yield with recorded field values to get an idea if it matches. If not, the spinup should be repeated with modified parameters.\n",
    "We will start by calculating the total simulated straw and grain yields per year."
   ]
  },
  {
   "cell_type": "code",
   "execution_count": null,
   "id": "40822c8c-ff7f-4a3b-b586-6825aea1d6b2",
   "metadata": {},
   "outputs": [],
   "source": [
    "% Run this cell to load data from a previous spinup\n",
    "initial_spinup_results_path = ['results' filesep 'initial_spinup' filesep '25-04-23-1817_Rothamsted_npk_res_ini_35_05_15.mat'];\n",
    "load(initial_spinup_results_path);"
   ]
  },
  {
   "cell_type": "code",
   "execution_count": 104,
   "id": "af19ff06-cfdd-4140-8cc0-3c1d57bb2b48",
   "metadata": {},
   "outputs": [],
   "source": [
    "% Setting this true means that negative `RB` values at planting will not be counted to yield\n",
    "OPT_only_positive_yield = true;\n",
    "\n",
    "years_daily = Datam(1:24:end,1); %! Year for each day of the simulation (Datam is in h, hence only every 24th)\n",
    "years = unique(years_daily);\n",
    "years = years(2:end); % Ignore first year, which has no harvest\n",
    "yield_yearly_pred = zeros(length(years), cc, 7);\n",
    "for i=1:length(years)\n",
    "    yr = years(i);\n",
    "    RB_L_curr_yr = RB_L(years_daily==yr, :, :);\n",
    "    if OPT_only_positive_yield\n",
    "        RB_L_curr_yr(RB_L_curr_yr < 0) = 0;\n",
    "    end\n",
    "    yield_yearly_pred(i, :, :) = sum(RB_L_curr_yr, 1);\n",
    "end\n",
    "grain_yearly_pred = sum(yield_yearly_pred(:, :, [4, 5]), 3); %! Grains are fruit (5) and C reserve (4) compartments\n",
    "straw_yearly_pred = sum(yield_yearly_pred(:, :, [1, 2, 7]), 3); %! Straw is leaves (1), sapwood (2), and dead leaves (7) compartments"
   ]
  },
  {
   "cell_type": "code",
   "execution_count": 105,
   "id": "5c39c556-a9c5-40ab-a859-53cafcc2b0b1",
   "metadata": {},
   "outputs": [
    {
     "name": "stderr",
     "output_type": "stream",
     "text": [
      "Warning: Column headers from the file were modified to make them valid MATLAB identifiers before creating variable names for the table. The original column headers are saved in the VariableDescriptions property.\n",
      "Set 'VariableNamingRule' to 'preserve' to use the original column headers as table variable names."
     ]
    }
   ],
   "source": [
    "relevant_strip = 21;  %! Strip 3: No fertilizer, 21 (=2.1): Most fertilizer, highest yield\n",
    "crop_data = readtable(['data' filesep 'Rothamsted_yield_data.csv']);\n",
    "crop_data = crop_data((crop_data.section == relevant_section) & (crop_data.strip == relevant_strip), :);"
   ]
  },
  {
   "cell_type": "markdown",
   "id": "dd980e8e-099f-41f3-bff5-45a9f47b3c5d",
   "metadata": {},
   "source": [
    "To compare with the reported yields from the field, we need to make sure that the units match (gC/m^2 vs. t/ha, where t is tons of 85% dry matter, and C content of dry matter is about 45% for grain and straw)."
   ]
  },
  {
   "cell_type": "code",
   "execution_count": 106,
   "id": "c67cef26-4a94-4ca2-962e-52f55489674d",
   "metadata": {},
   "outputs": [],
   "source": [
    "grain_yearly_obs = zeros(length(years), 1);\n",
    "straw_yearly_obs = zeros(length(years), 1);\n",
    "obs_dry_matter = 0.8;\n",
    "c_content_grain = 0.45;\n",
    "c_content_straw = 0.45;\n",
    "grain_conversion_factor = obs_dry_matter * c_content_grain * 1e2;  %! from t/ha to gC/m^2\n",
    "straw_conversion_factor = obs_dry_matter * c_content_straw * 1e2;  %! from t/ha to gC/m^2\n",
    "for i=1:length(years)\n",
    "    yr = years(i);\n",
    "    grain_yearly_obs(i) = crop_data.grain(crop_data.harvest_year==yr) * grain_conversion_factor;\n",
    "    straw_yearly_obs(i) = crop_data.straw(crop_data.harvest_year==yr) * straw_conversion_factor;\n",
    "end"
   ]
  },
  {
   "cell_type": "code",
   "execution_count": 107,
   "id": "cc855bcc-2fb6-40c3-8e37-b5bd50412ba3",
   "metadata": {},
   "outputs": [
    {
     "name": "stdout",
     "output_type": "stream",
     "text": [
      "Mean grain yields - observed: 260.04 , predicted: 259.6078\n",
      "Mean straw yields - observed: 230.64 , predicted: 152.9091\n"
     ]
    }
   ],
   "source": [
    "disp(['Mean grain yields - observed: ' num2str(mean(grain_yearly_obs)) ' , predicted: ' num2str(mean(grain_yearly_pred))])\n",
    "disp(['Mean straw yields - observed: ' num2str(mean(straw_yearly_obs)) ' , predicted: ' num2str(mean(straw_yearly_pred))])"
   ]
  },
  {
   "cell_type": "code",
   "execution_count": 108,
   "id": "4a9c1b0e-4d6e-4be5-bbb9-2544448c105a",
   "metadata": {},
   "outputs": [
    {
     "data": {
      "image/png": "[encoded data removed]"
     },
     "execution_count": 108,
     "metadata": {},
     "output_type": "execute_result"
    }
   ],
   "source": [
    "figure\n",
    "scatter(grain_yearly_obs, grain_yearly_pred)"
   ]
  },
  {
   "cell_type": "code",
   "execution_count": 109,
   "id": "658ad181-84ac-4d39-b726-6206765b9d5c",
   "metadata": {},
   "outputs": [
    {
     "data": {
      "image/png": "[encoded data removed]"
     },
     "execution_count": 109,
     "metadata": {},
     "output_type": "execute_result"
    }
   ],
   "source": [
    "figure\n",
    "plot(grain_yearly_obs)\n",
    "hold on\n",
    "plot(grain_yearly_pred)"
   ]
  },
  {
   "cell_type": "code",
   "execution_count": 110,
   "id": "5d080aa5-f450-425c-ad05-f38decd787b0",
   "metadata": {},
   "outputs": [
    {
     "data": {
      "image/png": "[encoded data removed]"
     },
     "execution_count": 110,
     "metadata": {},
     "output_type": "execute_result"
    }
   ],
   "source": [
    "figure\n",
    "scatter(straw_yearly_obs, straw_yearly_pred)\n",
    "hold on\n",
    "scatter(straw_yearly_obs(10:end), straw_yearly_pred(10:end))"
   ]
  },
  {
   "cell_type": "code",
   "execution_count": 111,
   "id": "d8c81ca4-df62-4f73-8c9c-c7393eac6df1",
   "metadata": {},
   "outputs": [
    {
     "data": {
      "image/png": "[encoded data removed]"
     },
     "execution_count": 111,
     "metadata": {},
     "output_type": "execute_result"
    }
   ],
   "source": [
    "figure\n",
    "plot(straw_yearly_obs)\n",
    "hold on\n",
    "plot(straw_yearly_pred)"
   ]
  },
  {
   "attachments": {},
   "cell_type": "markdown",
   "id": "84da61c6-bec9-4c25-b6b7-ea99be5fb937",
   "metadata": {},
   "source": [
    "## 2. BG Spinup\n",
    "\n",
    "Now we will run the biogeochemistry spinup in isolation from the rest, for bouts of 100 years at once, and repeat that until the values for the BG pools remain relatively constant.\n",
    "\n",
    "First we will add a folder to the matlab path that has a few functions defined that we will use here. We will also add the 'T&C_CODE' folder, to make sure it is still on the path."
   ]
  },
  {
   "cell_type": "code",
   "execution_count": 112,
   "id": "1d946301-8466-4a6d-92bc-8d9966973bca",
   "metadata": {},
   "outputs": [],
   "source": [
    "addpath(\"biogeochemistry_spinup_functions\");\n",
    "addpath(\"T&C_CODE\");"
   ]
  },
  {
   "cell_type": "markdown",
   "id": "a47d3109-ac5d-476f-b23a-3567caebfb9a",
   "metadata": {},
   "source": [
    "### 2.1. Load results from spinup"
   ]
  },
  {
   "cell_type": "code",
   "execution_count": null,
   "id": "ae422bac-324c-4e68-a99e-8f91c113267a",
   "metadata": {},
   "outputs": [],
   "source": [
    "load(initial_spinup_results_path);"
   ]
  },
  {
   "cell_type": "markdown",
   "id": "6c8ac950-2202-4f9e-a103-345809d08671",
   "metadata": {},
   "source": [
    "#### 2.1.a If simulations include woody vegetation\n",
    "If your vegetation includes wook, you will have to derive the wood turnover coefficient (`Wm_H` and/or `Wm_L`) after the first spinup. You should then run a second spinup with the parameter file containing the correct values for this coefficient. See Simone Fatichi's tutorial video for details."
   ]
  },
  {
   "cell_type": "markdown",
   "id": "b5f72b93-6539-4c8b-8d53-38cd6955fd46",
   "metadata": {},
   "source": [
    "### 2.2. Run biogeochemistry spinup\n",
    "\n",
    "The biogeochemistry spinup will run in multiple epochs. At each epoch the spinup continues from the previous state for a given number of years (`Nyears_epoch`). The spinup ends, if at the end of an epoch the value of none of the biogeochemistry pools has changed more than a given percentage (`rtol`), or if the maximum number of epochs (`N_epochs_max`) is reached.\n",
    "\n",
    "Below, we define the parameters mentioned above, as well as the path to the file holding deposition data."
   ]
  },
  {
   "cell_type": "code",
   "execution_count": null,
   "id": "907d4f71-c997-4602-8daf-42b3db9677e9",
   "metadata": {},
   "outputs": [],
   "source": [
    "pwd"
   ]
  },
  {
   "cell_type": "code",
   "execution_count": 113,
   "id": "e21f8bf5-3954-4a6e-8b93-2246e2e46fcc",
   "metadata": {},
   "outputs": [
    {
     "name": "stderr",
     "output_type": "stream",
     "text": [
      "License checkout failed.\n",
      "License Manager Error 4410\n",
      "Invalid security token. (Status code: Unauthorized)\n",
      "\n",
      "Troubleshoot this issue by visiting: \n",
      "https://www.mathworks.com/support/lme/4410\n",
      "\n",
      "Diagnostic Information:\n",
      "Feature: MATLAB \n",
      "License path:  \n",
      "Licensing error: 4410,0.\n",
      "\n",
      "Error in bg_preprocess (line 12)\n",
      "    Se = (log(nanmean(Aew)/0.000008575)/11.67)*Se_fc;"
     ]
    }
   ],
   "source": [
    "Nyears_epoch = 100;\n",
    "N_epochs_max = 100;\n",
    "%! If none of the pools changes more than 5% or 1e-4 during an epoch, the spinup ends\n",
    "rtol = 0.05;\n",
    "atol = 1e-4;\n",
    "path_deposition_data = ['data' 'Inputs' 'All_deposition_data.mat'];\n",
    "manure_data_path = [root_dir filesep 'data' filesep 'Rothamsted_manure_data.csv'];\n",
    "OPT_Use_Fertilizer = true;\n",
    "bg_save_folder = ['results' filesep 'bg_spinup' filesep run_identifier];\n",
    "mkdir(bg_save_folder);\n",
    "\n",
    "% Preprocessing - Function arguments are from initial spinup\n",
    "[Se, Se_fc, Psi_s, Ts, V, VT] = bg_preprocess(Ta, Tdp, O, V, Soil_Param, Phy, SPAR, Bio_Zs);"
   ]
  },
  {
   "cell_type": "code",
   "execution_count": null,
   "id": "2b9d0627-f762-4758-a64d-b86cf281339f",
   "metadata": {
    "scrolled": true
   },
   "outputs": [],
   "source": [
    "% The actual spinup\n",
    "[B, R_litter, R_litter_sur, R_microbe, R_bacteria, R_ew, VOL, BfixN, Min_N, Min_P, RmycAM, RmycEM, ...\n",
    "    N2flx, NH4_Uptake, NO3_Uptake, P_Uptake, K_Uptake, LEAK_NH4, LEAK_NO3, LEAK_P, LEAK_K, LEAK_DOC, ...\n",
    "    LEAK_DON, LEAK_DOP, Lk] = bg_spinup(Lat, Lon, N_epochs_max, Nyears_epoch, ISOIL_H+ISOIL_L, Zbio, rsd, ...\n",
    "    Pcla, Psan, PHs, Zs, Ts, Ta, Psi_s, Se, Se_fc, V, VT, T_L, T_H, Lk, RexmyI, Ccrown, B_H+B_L, rtol, atol, bg_save_folder, ...\n",
    "    dateNum1, crop_data, manure_data_path, OPT_Use_Fertilizer);\n",
    "\n",
    "% Plot results of final epoch (states should not change significantly anymore)\n",
    "bg_plot(B, R_litter, R_litter_sur, R_microbe, R_bacteria, R_ew, VOL, BfixN, Min_N, Min_P, RmycAM, RmycEM, ...\n",
    "    N2flx, NH4_Uptake, NO3_Uptake, P_Uptake, K_Uptake, LEAK_NH4, LEAK_NO3, LEAK_P, LEAK_K, LEAK_DOC, ...\n",
    "    LEAK_DON, LEAK_DOP, Lk, Zbio, rsd);"
   ]
  },
  {
   "cell_type": "markdown",
   "id": "caa70d53-bc40-469a-bad5-e8f050752d4d",
   "metadata": {},
   "source": [
    "### 2.3. Export relevant variables\n",
    "Finally, we save the final state of the biogeochemistry nutrient pools."
   ]
  },
  {
   "cell_type": "code",
   "execution_count": null,
   "id": "ea14bbe1-d49d-49d6-94d4-33b3f97cb055",
   "metadata": {},
   "outputs": [],
   "source": [
    "B_end = B(end, :);\n",
    "bg_save_path_final = [bg_save_folder filesep 'final.mat'];\n",
    "save(bg_save_path_final, \"B_end\");"
   ]
  },
  {
   "cell_type": "markdown",
   "id": "ae294ce1-c3e6-47ca-80fb-f177516ca95b",
   "metadata": {},
   "source": [
    "## 3 Full spin-up"
   ]
  },
  {
   "cell_type": "code",
   "execution_count": 115,
   "id": "2fe4d729-24b9-49f3-928c-79761bdd22fe",
   "metadata": {},
   "outputs": [],
   "source": [
    "% Run this cell to load data from previous spin up runs\n",
    "clearvars\n",
    "\n",
    "root_dir = cd;\n",
    "id_location = 'Rothamsted';\n",
    "% timestamp = '25-04-23-1817';\n",
    "timestamp = '25-05-08-1003';\n",
    "short_descriptor = 'porg006';\n",
    "run_identifier = [timestamp '_' id_location '_' short_descriptor];\n",
    "\n",
    "initial_spinup_results_path = ['results' filesep 'initial_spinup' filesep run_identifier];\n",
    "% bg_save_path_final = ['results' filesep 'bg_spinup' filesep '25-04-23-1538_final.mat'];\n",
    "bg_save_path_final = ['results' filesep 'bg_spinup' filesep run_identifier filesep 'final.mat'];\n",
    "\n",
    "% Location of parameters to be used in multiple stages of the spinup\n",
    "param_filename = ['MOD_PARAM_' id_location '_Spinup_common'];\n",
    "PARAM_IC = [root_dir filesep 'PARAMETER_PLOT_FILES' filesep param_filename];\n",
    "\n",
    "addpath(\"T&C_CODE\");"
   ]
  },
  {
   "cell_type": "code",
   "execution_count": 98,
   "id": "79e9bbaf-1c31-44c7-b2cd-19aaed50e23e",
   "metadata": {},
   "outputs": [],
   "source": [
    "% ..alternatively run this cell to make sure the work space is clean\n",
    "clearvars -except initial_spinup_results_path bg_save_path_final PARAM_IC root_dir"
   ]
  },
  {
   "cell_type": "code",
   "execution_count": 116,
   "id": "2db50941-af5e-4a3b-8581-075133bb8ca4",
   "metadata": {
    "scrolled": true
   },
   "outputs": [
    {
     "name": "stderr",
     "output_type": "stream",
     "text": [
      "Warning: Column headers from the file were modified to make them valid MATLAB identifiers before creating variable names for the table. The original column headers are saved in the VariableDescriptions property.\n",
      "Unrecognized function or variable 'OPT_Use_Fertilizer'.nal column headers as table variable names.\n",
      "\n",
      "Error in MOD_PARAM_Rothamsted_bg (line 53)\n",
      "B_IO = load_fertilizer(B_IO, dateNum1, NNd, crop_data, manure_data_path, OPT_Use_Fertilizer);\n",
      "\n",
      "Error in run (line 112)\n",
      "evalin('caller', strcat(scriptStem, ';'));\n",
      "\n",
      "Error in MAIN_FRAME (line 222)\n",
      "run(PARAM_IC);"
     ]
    }
   ],
   "source": [
    "prev_data = load(initial_spinup_results_path);\n",
    "prev_bg = load(bg_save_path_final).B_end;\n",
    "\n",
    "% Run truncated prova file to perform standard initialization\n",
    "run(\"PARAMETER_PLOT_FILES\\prova_Rothamsted_Spinup\");\n",
    "OPT_BG = 1;\n",
    "\n",
    "%%%%%%%%%%%%%%%%%%%%%%%%%%%%%%%%%%%%%%%%%%%%%%%%%%%\n",
    "%%%%%%%%%%%%%%%%%%%%%%%%%%%%%%%%%%%%%%%%%%%%\n",
    "initial_parameters_path = PARAM_IC;\n",
    "PARAM_IC = [root_dir filesep 'PARAMETER_PLOT_FILES' filesep 'MOD_PARAM_Rothamsted_bg'];\n",
    "%%%%%%%%%%%%%%%%%%%%%%%%%%%%\n",
    "MAIN_FRAME\n",
    "%%%%%%%%%%%%%%%%%%%%%%%%%%%%"
   ]
  },
  {
   "cell_type": "code",
   "execution_count": 100,
   "id": "d69185c2-8688-4a31-ad7e-38bbd1b1d32b",
   "metadata": {
    "scrolled": true
   },
   "outputs": [
    {
     "data": {
      "image/png": "[encoded data removed]"
     },
     "execution_count": 100,
     "metadata": {},
     "output_type": "execute_result"
    }
   ],
   "source": [
    "plot(NPP_L)"
   ]
  },
  {
   "cell_type": "code",
   "execution_count": 16,
   "id": "fdb13080-f9ee-4c02-8a55-1218d2f33b0e",
   "metadata": {},
   "outputs": [],
   "source": [
    "descriptor_full = \"Full spinup providing initial NPK reserve 35(N), 5(P) and 15(K), fertilizer as in Rothamsted Strip 2.1 with N2 and manure. However, in Veg dyn res, nutrient exports `TexN/P/K` use a rN/P/Kc that is limited to at most 2\";\n",
    "%descriptor_full = \"Full spinup providing initial NPK reserve 2(N), 0(P) and 1(K), fertilizer as in Rothamsted Strip 2.1 with N2 and manure\";\n",
    "% short_descriptor_full = 'limit_rNPKc';\n",
    "short_descriptor_full = 'npk_res_ini_0_0_0_fert_like_field';\n",
    "run_identifier_full = [run_identifier '_' short_descriptor_full];"
   ]
  },
  {
   "cell_type": "code",
   "execution_count": 17,
   "id": "e69fe55b-683c-4f30-a6fd-78109eb195d1",
   "metadata": {},
   "outputs": [
    {
     "name": "stderr",
     "output_type": "stream",
     "text": [
      "Warning: Directory already exists."
     ]
    }
   ],
   "source": [
    "full_spinup_folder = [root_dir filesep 'results' filesep 'full_spinup'];\n",
    "mkdir(full_spinup_folder);\n",
    "save_path = [full_spinup_folder filesep run_identifier_full '.mat'];\n",
    "save(save_path);"
   ]
  },
  {
   "cell_type": "code",
   "execution_count": null,
   "id": "baa2ff1b-de84-4e5b-8926-af2af70ddf11",
   "metadata": {},
   "outputs": [],
   "source": []
  }
 ],
 "metadata": {
  "kernelspec": {
   "display_name": "MATLAB Kernel",
   "language": "matlab",
   "name": "jupyter_matlab_kernel"
  },
  "language_info": {
   "file_extension": ".m",
   "mimetype": "text/x-matlab",
   "name": "matlab"
  }
 },
 "nbformat": 4,
 "nbformat_minor": 5
}
