{
 "cells": [
  {
   "cell_type": "markdown",
   "id": "56febdca-259f-4ac1-8f26-bfd04830636d",
   "metadata": {},
   "source": [
    "# Rothamsted Spinup\n",
    "This notebook runs the whole spinup for the Rothamsted site, including:\n",
    "1. Pre-BG spinup\n",
    "2. BG spinup\n",
    "3. Full spinup\n",
    "\n",
    "## 0. Setup\n",
    "The following cells are useful to run, also before other stages of the spinup"
   ]
  },
  {
   "cell_type": "code",
   "execution_count": null,
   "id": "3017f496-5f22-403f-8818-c0fcf0467052",
   "metadata": {
    "scrolled": true
   },
   "outputs": [],
   "source": [
    "clear all;\n",
    "% Add T&C Code directory to path so we don't need to navigate between folders from *within* the scripts\n",
    "addpath(\"T&C_CODE\");\n",
    "\n",
    "% Make sure this is the root folder of this project\n",
    "root_dir = cd;\n",
    "% Descriptor will be saved with all other variables and can be helpful to reconstruct what has been done\n",
    "descriptor = \"Set SOM content to 4.75%\";\n",
    "% Some more information to compose the name of this experiment\n",
    "short_descriptor = 'porg00475';\n",
    "timestamp = datestr(now, \"yy-mm-dd-HHMM\");\n",
    "id_location = 'Rothamsted';\n",
    "run_identifier = [timestamp '_' id_location '_' short_descriptor];\n",
    "\n",
    "% Location of parameters to be used in multiple stages of the spinup\n",
    "param_filename = ['MOD_PARAM_' id_location '_Spinup_common'];\n",
    "PARAM_IC = [root_dir filesep 'PARAMETER_PLOT_FILES' filesep param_filename];"
   ]
  },
  {
   "cell_type": "markdown",
   "id": "d2b248c8-3ba4-4860-ac10-f99276f66fd0",
   "metadata": {},
   "source": [
    "## 1. Pre-BG Spinup\n",
    "\n",
    "As a first step we run the spinup without the biogeochemistry module activated. For this we will use a truncated version of the prova-file, which does not specify the paths of the parameter and output files. We will do so ourselves and then call the main routine `MAIN_FRAME` directly from this notebook."
   ]
  },
  {
   "cell_type": "code",
   "execution_count": null,
   "id": "35095183-63b0-4557-93f0-588a1d8f1a72",
   "metadata": {
    "scrolled": true
   },
   "outputs": [],
   "source": [
    "% Run truncated prova file to perform standard initialization\n",
    "run(\"PARAMETER_PLOT_FILES\\prova_Rothamsted_Spinup\");\n",
    "\n",
    "%%%%%%%%%%%%%%%%%%%%%%%%%%%%\n",
    "MAIN_FRAME ;\n",
    "%%%%%%%%%%%%%%%%%%%%%%%%%%%%\n",
    "% cd(current_directory);\n",
    "%%%%%%%%%%%%%%%%%%%%%%%%%%%%%%\n",
    "initial_spinup_results_folder = ['results' filesep 'initial_spinup'];\n",
    "mkdir(initial_spinup_results_folder);\n",
    "initial_spinup_result_fn = [run_identifier '.mat'];\n",
    "initial_spinup_results_path = [initial_spinup_results_folder filesep initial_spinup_result_fn];\n",
    "save(initial_spinup_results_path);"
   ]
  },
  {
   "cell_type": "markdown",
   "id": "e195b630-234d-4c32-b255-aa24a5dcf24e",
   "metadata": {
    "jp-MarkdownHeadingCollapsed": true
   },
   "source": [
    "### 1.1 Calibration\n",
    "\n",
    "Here, we can compare some of the model outputs, such as yield with recorded field values to get an idea if it matches. If not, the spinup should be repeated with modified parameters.\n",
    "We will start by calculating the total simulated straw and grain yields per year."
   ]
  },
  {
   "cell_type": "code",
   "execution_count": null,
   "id": "40822c8c-ff7f-4a3b-b586-6825aea1d6b2",
   "metadata": {},
   "outputs": [],
   "source": [
    "% Run this cell to load data from a previous spinup\n",
    "initial_spinup_results_path = ['results' filesep 'initial_spinup' filesep '25-04-23-1817_Rothamsted_npk_res_ini_35_05_15.mat'];\n",
    "load(initial_spinup_results_path);"
   ]
  },
  {
   "cell_type": "code",
   "execution_count": null,
   "id": "af19ff06-cfdd-4140-8cc0-3c1d57bb2b48",
   "metadata": {},
   "outputs": [],
   "source": [
    "% Setting this true means that negative `RB` values at planting will not be counted to yield\n",
    "OPT_only_positive_yield = true;\n",
    "\n",
    "[grain_yearly_pred, straw_yearly_pred] = estimate_yield(Datam, RB_L, OPT_only_positive_yield);"
   ]
  },
  {
   "cell_type": "raw",
   "id": "9662cf30-a489-4e81-b18b-cc5160e7e8ed",
   "metadata": {},
   "source": [
    "relevant_strip = 21;  %! Strip 3: No fertilizer, 21 (=2.1): Most fertilizer, highest yield\n",
    "crop_data = readtable(['data' filesep 'Rothamsted_yield_data.csv']);\n",
    "crop_data = crop_data((crop_data.section == relevant_section) & (crop_data.strip == relevant_strip), :);"
   ]
  },
  {
   "cell_type": "markdown",
   "id": "dd980e8e-099f-41f3-bff5-45a9f47b3c5d",
   "metadata": {},
   "source": [
    "To compare with the reported yields from the field, we need to make sure that the units match (gC/m^2 vs. t/ha, where t is tons of 85% dry matter, and C content of dry matter is about 45% for grain and straw)."
   ]
  },
  {
   "cell_type": "code",
   "execution_count": null,
   "id": "c67cef26-4a94-4ca2-962e-52f55489674d",
   "metadata": {},
   "outputs": [],
   "source": [
    "years_daily = Datam(1:24:end,1); %! Year for each day of the simulation (Datam is in h, hence only every 24th)\n",
    "years = unique(years_daily);\n",
    "years = years(2:end); % Ignore first year, which has no harvest\n",
    "grain_yearly_obs = zeros(length(years), 1);\n",
    "straw_yearly_obs = zeros(length(years), 1);\n",
    "obs_dry_matter = 0.8;\n",
    "c_content_grain = 0.45;\n",
    "c_content_straw = 0.45;\n",
    "grain_conversion_factor = obs_dry_matter * c_content_grain * 1e2;  %! from t/ha to gC/m^2\n",
    "straw_conversion_factor = obs_dry_matter * c_content_straw * 1e2;  %! from t/ha to gC/m^2\n",
    "for i=1:length(years)\n",
    "    yr = years(i);\n",
    "    grain_yearly_obs(i) = crop_data.grain(crop_data.harvest_year==yr) * grain_conversion_factor;\n",
    "    straw_yearly_obs(i) = crop_data.straw(crop_data.harvest_year==yr) * straw_conversion_factor;\n",
    "end"
   ]
  },
  {
   "cell_type": "code",
   "execution_count": null,
   "id": "cc855bcc-2fb6-40c3-8e37-b5bd50412ba3",
   "metadata": {},
   "outputs": [],
   "source": [
    "disp(['Mean grain yields - observed: ' num2str(mean(grain_yearly_obs)) ' , predicted: ' num2str(mean(grain_yearly_pred))])\n",
    "disp(['Mean straw yields - observed: ' num2str(mean(straw_yearly_obs)) ' , predicted: ' num2str(mean(straw_yearly_pred))])"
   ]
  },
  {
   "cell_type": "code",
   "execution_count": null,
   "id": "4a9c1b0e-4d6e-4be5-bbb9-2544448c105a",
   "metadata": {},
   "outputs": [],
   "source": [
    "figure\n",
    "scatter(grain_yearly_obs, grain_yearly_pred)"
   ]
  },
  {
   "cell_type": "code",
   "execution_count": null,
   "id": "658ad181-84ac-4d39-b726-6206765b9d5c",
   "metadata": {
    "scrolled": true
   },
   "outputs": [],
   "source": [
    "figure\n",
    "plot(grain_yearly_obs)\n",
    "hold on\n",
    "plot(grain_yearly_pred)"
   ]
  },
  {
   "cell_type": "code",
   "execution_count": null,
   "id": "5d080aa5-f450-425c-ad05-f38decd787b0",
   "metadata": {},
   "outputs": [],
   "source": [
    "figure\n",
    "scatter(straw_yearly_obs, straw_yearly_pred)\n",
    "hold on\n",
    "scatter(straw_yearly_obs(10:end), straw_yearly_pred(10:end))"
   ]
  },
  {
   "cell_type": "code",
   "execution_count": null,
   "id": "d8c81ca4-df62-4f73-8c9c-c7393eac6df1",
   "metadata": {},
   "outputs": [],
   "source": [
    "figure\n",
    "plot(straw_yearly_obs)\n",
    "hold on\n",
    "plot(straw_yearly_pred)"
   ]
  },
  {
   "cell_type": "markdown",
   "id": "9e65af2b-98ec-4cfa-b479-12c074988745",
   "metadata": {},
   "source": [
    "### 1.2 Soil density\n",
    "\n",
    "Just out of curiosity we can also compare soil densities. The Rothamsted data mentions 2.52*1e6 kg/ha dry soil weight for the first 23cm of soil. This corresponds to 2.52\\*1e2 kg/m^2 * 1/(0.23 m) = 1.095 kg/m^3. T&C gives us a value that is only a few % off:"
   ]
  },
  {
   "cell_type": "code",
   "execution_count": null,
   "id": "50e92685-8c2e-493f-a30d-81d6f086074e",
   "metadata": {},
   "outputs": [],
   "source": [
    "rsd\n"
   ]
  },
  {
   "cell_type": "code",
   "execution_count": null,
   "id": "48b19626-8df8-44c1-bd7a-221eb7d96dd2",
   "metadata": {},
   "outputs": [],
   "source": [
    "disp(sprintf('Estimated soil density: %.3e kg/m^3', mean(rsd)))\n"
   ]
  },
  {
   "attachments": {},
   "cell_type": "markdown",
   "id": "84da61c6-bec9-4c25-b6b7-ea99be5fb937",
   "metadata": {},
   "source": [
    "## 2. Biogeochemistry Spinup\n",
    "\n",
    "Now we will run the biogeochemistry spinup in isolation from the rest, for bouts of 100 years at once, and repeat that until the values for the BG pools remain relatively constant."
   ]
  },
  {
   "cell_type": "markdown",
   "id": "6c8ac950-2202-4f9e-a103-345809d08671",
   "metadata": {},
   "source": [
    "### 2.1. If simulations include woody vegetation\n",
    "If your vegetation includes wook, you will have to derive the wood turnover coefficient (`Wm_H` and/or `Wm_L`) after the first spinup. You should then run a second spinup with the parameter file containing the correct values for this coefficient. See Simone Fatichi's tutorial video for details."
   ]
  },
  {
   "cell_type": "markdown",
   "id": "b5f72b93-6539-4c8b-8d53-38cd6955fd46",
   "metadata": {},
   "source": [
    "### 2.2. Run biogeochemistry spinup\n",
    "\n",
    "The biogeochemistry spinup will run in multiple epochs. At each epoch the spinup continues from the previous state for a given number of years (`Nyears_epoch`). The spinup ends, if at the end of an epoch the value of none of the biogeochemistry pools has changed more than a given percentage (`rtol`), or if the maximum number of epochs (`N_epochs_max`) is reached.\n",
    "\n",
    "Below, we define the parameters mentioned above, as well as the name of the initial spinup run, the strip for which to load the fertilizer data, as well as paths to the files holding manure data and deposition data."
   ]
  },
  {
   "cell_type": "code",
   "execution_count": null,
   "id": "e21f8bf5-3954-4a6e-8b93-2246e2e46fcc",
   "metadata": {
    "jupyter": {
     "source_hidden": true
    }
   },
   "outputs": [],
   "source": [
    "%! Which strip should be simulated\n",
    "relevant_strip = 11;\n",
    "treatment_descriptor = 'N2P';\n",
    "\n",
    "%! Identifier of initial spinup\n",
    "initial_spinup_id = '25-05-09-1508_Rothamsted_porg00475';\n",
    "\n",
    "%! Set the duration of the simulations\n",
    "Nyears_epoch = 100;\n",
    "N_epochs_max = 30;\n",
    "\n",
    "%! If none of the pools changes more than 10% or 1e-4 during an epoch, the spinup ends\n",
    "rtol = 0.1;\n",
    "atol = 1e-4;\n",
    "\n",
    "path_deposition_data = ['data' 'Inputs' 'All_deposition_data.mat'];\n",
    "manure_data_path = [root_dir filesep 'data' filesep 'Rothamsted_manure_data.csv'];\n",
    "initial_spinup_results_path = ['results' filesep 'initial_spinup' filesep initial_spinup_id];\n",
    "\n",
    "OPT_Use_Fertilizer = true;  % Set `false` if fertilizer should not be applied\n",
    "OPT_Plot = false;  % Set `true` to plot results of final epoch\n",
    "\n",
    "%! Make sure all required functions are on the path\n",
    "addpath(\"spinup_functions\");\n",
    "addpath(\"T&C_CODE\");\n",
    "addpath(\"utility_functions\");\n",
    "\n",
    "%! This will run the full spinup\n",
    "bg_main(initial_spinup_results_path, initial_spinup_id, relevant_strip, treatment_descriptor, path_deposition_data, ...\n",
    "    manure_data_path, Nyears_epoch, N_epochs_max, rtol, atol, OPT_Use_Fertilizer, OPT_Plot);"
   ]
  },
  {
   "cell_type": "markdown",
   "id": "ae294ce1-c3e6-47ca-80fb-f177516ca95b",
   "metadata": {},
   "source": [
    "## 3 Copuled model spin-up\n",
    "\n",
    "### 3.1 Repeat until pools converge\n",
    "\n",
    "This will run the spinup for as many epochs as required such that between two repetitions the values for variables defined in `compare_vars` are within the tolerance defined by `atol` and `rtol`. This means that for all of the variables for any datapoint the difference between two epochs must be smaller than `atol`, and the average of the relative difference (i.e. difference / value from previous epoch) must be below `rtol`.\n",
    "\n",
    "To pick up from a previous run, you will have to update the `prev_data_path`. You can set `prev_bg_path` to \"none\", to get the biogeochemistry data from the same file."
   ]
  },
  {
   "cell_type": "code",
   "execution_count": null,
   "id": "79f449c8-2b61-4b8b-a498-f38b85f0c87d",
   "metadata": {},
   "outputs": [],
   "source": [
    "clearvars\n",
    "\n",
    "% Strip (=treatment) selection\n",
    "relevant_strip = 11;\n",
    "treatment_descriptor = 'N2P';\n",
    "descriptor_full = \"Full spinup providing no NPK reserve. Fertilizer as in Rothamsted Strip 11 with N and P already applied at BG spinup\";\n",
    "\n",
    "% Determine stopping conditions\n",
    "N_max_epochs = 20;\n",
    "atol = 1e-2;\n",
    "rtol = 1e-3;\n",
    "compare_vars = [\"NPP_L\", \"RB_L\", \"P\"];\n",
    "\n",
    "% Data to build run ID\n",
    "id_location = 'Rothamsted';\n",
    "timestamp = '25-05-09-1508';\n",
    "short_descriptor = 'porg00475';\n",
    "short_descriptor_full = 'npk_res_ini_0_0_0_fert_like_field';\n",
    "\n",
    "% Construct paths\n",
    "root_dir = cd;\n",
    "run_identifier = [timestamp '_' id_location '_' short_descriptor];\n",
    "prev_data_path = ['results' filesep 'initial_spinup' filesep run_identifier];\n",
    "\n",
    "treatment_id = [sprintf('%d', relevant_strip) '_' treatment_descriptor];\n",
    "run_identifier_bg = [run_identifier '_' treatment_id];\n",
    "prev_bg_path = ['results' filesep 'bg_spinup' filesep run_identifier_bg filesep 'final.mat'];\n",
    "\n",
    "prova_file_path = ['PARAMETER_PLOT_FILES' filesep 'prova_' id_location '_Spinup'];\n",
    "\n",
    "run_id_full = [run_identifier_bg '_' short_descriptor_full];\n",
    "output_dir = [root_dir filesep 'results' filesep 'full_spinup' filesep run_id_full];\n",
    "\n",
    "% Location of parameters to be used in multiple stages of the spinup\n",
    "param_filename = ['MOD_PARAM_' id_location '_Spinup_common'];\n",
    "initial_parameters_path = [root_dir filesep 'PARAMETER_PLOT_FILES' filesep param_filename];\n",
    "bg_parameters_path = [root_dir filesep 'PARAMETER_PLOT_FILES' filesep 'MOD_PARAM_' id_location '_bg'];\n",
    "\n",
    "% Add necessary paths\n",
    "addpath(\"T&C_CODE\");\n",
    "addpath(\"spinup_functions\");\n",
    "addpath(\"utility_functions\");"
   ]
  },
  {
   "cell_type": "markdown",
   "id": "75974473-2e0d-48e2-857d-67d082e3447b",
   "metadata": {},
   "source": [
    "Use this cell to start the process from scratch:"
   ]
  },
  {
   "cell_type": "code",
   "execution_count": null,
   "id": "cbc24ec8-1ce0-4da9-bdca-9f5a3ee1427a",
   "metadata": {},
   "outputs": [],
   "source": [
    "% Run the actual spinup\n",
    "[final_path, reached_equilibrium] = coupled_model_main(relevant_strip, descriptor_full, ...\n",
    "    root_dir, output_dir, N_max_epochs, rtol, atol, compare_vars, ...\n",
    "    prev_data_path, prev_bg_path, prova_file_path, initial_parameters_path, bg_parameters_path)"
   ]
  },
  {
   "cell_type": "markdown",
   "id": "749a8561-1e60-4713-9645-156fd4e16b9e",
   "metadata": {},
   "source": [
    "... or use this cell to continue from a previous epoch:"
   ]
  },
  {
   "cell_type": "code",
   "execution_count": null,
   "id": "c2a35309-bf8d-47d5-a314-791a2f938905",
   "metadata": {},
   "outputs": [],
   "source": [
    "prev_data_path = [output_dir filesep 'epoch_08.mat'];\n",
    "prev_bg_path = 'none';\n",
    "[final_path, reached_equilibrium] = coupled_model_main(relevant_strip, descriptor_full, ...\n",
    "    root_dir, output_dir, N_max_epochs, rtol, atol, compare_vars, ...\n",
    "    prev_data_path, prev_bg_path, prova_file_path, initial_parameters_path, bg_parameters_path)\n"
   ]
  },
  {
   "cell_type": "markdown",
   "id": "59269bb7-93a5-489e-bd58-a3996a523b4c",
   "metadata": {},
   "source": [
    "### 3.2 Some preliminary tests on the data\n",
    "\n",
    "We will now load the data from `final_path`. If it is not in the workspace anymore, or to load some other data, it can be redifined below:"
   ]
  },
  {
   "cell_type": "code",
   "execution_count": null,
   "id": "072c03f1-1b22-4a91-b62f-0b2bcff8b352",
   "metadata": {},
   "outputs": [],
   "source": [
    "final_path = \"results\\full_spinup\\25-05-09-1508_Rothamsted_porg00475_3_nil_npk_res_ini_0_0_0_fert_like_field_rep13.mat\";\n",
    "load(final_path);"
   ]
  },
  {
   "cell_type": "markdown",
   "id": "7e56acb9-6fd8-4546-b0a6-4aa6ac7285af",
   "metadata": {},
   "source": [
    "#### 3.2.1 Nutrient pool evolution"
   ]
  },
  {
   "cell_type": "code",
   "execution_count": null,
   "id": "412db7e6-ae15-4a19-b53d-13103d19b894",
   "metadata": {},
   "outputs": [],
   "source": [
    "% Plot nutrient pools to see if they are stable\n",
    "figure; hold on\n",
    "plot(P(:,[45]))"
   ]
  },
  {
   "cell_type": "markdown",
   "id": "25a60056-339a-4c0c-bbd9-a049a16212b2",
   "metadata": {},
   "source": [
    "#### 3.2.2 Soil organic carbon and soil N"
   ]
  },
  {
   "cell_type": "code",
   "execution_count": null,
   "id": "9c01c0e1-38b3-4ab0-88c7-9060709afbba",
   "metadata": {},
   "outputs": [],
   "source": [
    "%! Soil N in gN / g dry soil\n",
    "soil_C_content = sum(P(end, 6:21)) / (Zbio * sum(rsd .* Bio_Zs))\n",
    "%! Soil N in gN / g dry soil\n",
    "soil_N_content = sum(P(end, 25:33)) / (Zbio * sum(rsd .* Bio_Zs))"
   ]
  },
  {
   "cell_type": "markdown",
   "id": "09f258aa-31a6-421e-a120-3b16e01d3bcf",
   "metadata": {},
   "source": [
    "#### 3.2.3 Yield"
   ]
  },
  {
   "cell_type": "code",
   "execution_count": null,
   "id": "c779e4bb-f53e-4f26-ba24-901269040afd",
   "metadata": {},
   "outputs": [],
   "source": [
    "addpath(\"utility_functions\")"
   ]
  },
  {
   "cell_type": "code",
   "execution_count": null,
   "id": "9d760417-3092-4f62-8723-95a31222d069",
   "metadata": {},
   "outputs": [],
   "source": [
    "% Setting this true means that negative `RB` values at planting will not be counted to yield\n",
    "OPT_only_positive_yield = true;\n",
    "\n",
    "[grain_yearly_pred, straw_yearly_pred] = estimate_yield(Datam, RB_L, OPT_only_positive_yield);\n"
   ]
  },
  {
   "cell_type": "code",
   "execution_count": null,
   "id": "33a7699c-f9ef-4ffa-8980-13fc369b1d66",
   "metadata": {},
   "outputs": [],
   "source": [
    "years_daily = Datam(2:24:end,1); %! Year for each day of the simulation (Datam is in h, hence only every 24th)\n",
    "years = unique(years_daily);\n",
    "years = years(2:end); % Ignore first year, which has no harvest\n",
    "grain_yearly_obs = zeros(length(years), 1);\n",
    "straw_yearly_obs = zeros(length(years), 1);\n",
    "obs_dry_matter = 0.8;\n",
    "c_content_grain = 0.45;\n",
    "c_content_straw = 0.45;\n",
    "grain_conversion_factor = obs_dry_matter * c_content_grain * 1e2;  %! from t/ha to gC/m^2\n",
    "straw_conversion_factor = obs_dry_matter * c_content_straw * 1e2;  %! from t/ha to gC/m^2\n",
    "for i=1:length(years)\n",
    "    yr = years(i);\n",
    "    grain_yearly_obs(i) = crop_data.grain(crop_data.harvest_year==yr) * grain_conversion_factor;\n",
    "    straw_yearly_obs(i) = crop_data.straw(crop_data.harvest_year==yr) * straw_conversion_factor;\n",
    "end"
   ]
  },
  {
   "cell_type": "code",
   "execution_count": null,
   "id": "fff071f2-540b-4b2c-97ce-3502b9f5526a",
   "metadata": {},
   "outputs": [],
   "source": [
    "figure\n",
    "plot(grain_yearly_obs)\n",
    "hold on\n",
    "plot(grain_yearly_pred)"
   ]
  }
 ],
 "metadata": {
  "kernelspec": {
   "display_name": "MATLAB Kernel",
   "language": "matlab",
   "name": "jupyter_matlab_kernel"
  },
  "language_info": {
   "file_extension": ".m",
   "mimetype": "text/x-matlab",
   "name": "matlab"
  }
 },
 "nbformat": 4,
 "nbformat_minor": 5
}
