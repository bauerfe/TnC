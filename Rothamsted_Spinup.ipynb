{
 "cells": [
  {
   "cell_type": "markdown",
   "id": "56febdca-259f-4ac1-8f26-bfd04830636d",
   "metadata": {},
   "source": [
    "# Rothamsted Spinup\n",
    "This notebook runs the whole spinup for the Rothamsted site, including:\n",
    "1. Pre-BG spinup\n",
    "2. BG spinup\n",
    "3. Full spinup\n",
    "\n",
    "## 0. Setup\n",
    "The following cells are useful to run, also before other stages of the spinup"
   ]
  },
  {
   "cell_type": "code",
   "execution_count": 186,
   "id": "3017f496-5f22-403f-8818-c0fcf0467052",
   "metadata": {
    "scrolled": true
   },
   "outputs": [],
   "source": [
    "clear all;\n",
    "% Add T&C Code directory to path so we don't need to navigate between folders from *within* the scripts\n",
    "addpath(\"T&C_CODE\");\n",
    "\n",
    "% Make sure this is the root folder of this project\n",
    "root_dir = cd;\n",
    "% Descriptor will be saved with all other variables and can be helpful to reconstruct what has been done\n",
    "descriptor = \"Set SOM content to 4.75%\";\n",
    "% Some more information to compose the name of this experiment\n",
    "short_descriptor = 'porg00475';\n",
    "timestamp = datestr(now, \"yy-mm-dd-HHMM\");\n",
    "id_location = 'Rothamsted';\n",
    "run_identifier = [timestamp '_' id_location '_' short_descriptor];\n",
    "\n",
    "% Location of parameters to be used in multiple stages of the spinup\n",
    "param_filename = ['MOD_PARAM_' id_location '_Spinup_common'];\n",
    "PARAM_IC = [root_dir filesep 'PARAMETER_PLOT_FILES' filesep param_filename];"
   ]
  },
  {
   "cell_type": "markdown",
   "id": "d2b248c8-3ba4-4860-ac10-f99276f66fd0",
   "metadata": {},
   "source": [
    "## 1. Pre-BG Spinup\n",
    "\n",
    "As a first step we run the spinup without the biogeochemistry module activated. For this we will use a truncated version of the prova-file, which does not specify the paths of the parameter and output files. We will do so ourselves and then call the main routine `MAIN_FRAME` directly from this notebook."
   ]
  },
  {
   "cell_type": "code",
   "execution_count": 187,
   "id": "35095183-63b0-4557-93f0-588a1d8f1a72",
   "metadata": {
    "scrolled": true
   },
   "outputs": [
    {
     "name": "stderr",
     "output_type": "stream",
     "text": [
      "Warning: Column headers from the file were modified to make them valid MATLAB identifiers before creating variable names for the table. The original column headers are saved in the VariableDescriptions property.\n",
      "Set 'VariableNamingRule' to 'preserve' to use the original column headers as table variable names."
     ]
    },
    {
     "name": "stdout",
     "output_type": "stream",
     "text": [
      "Iter:\n",
      "     2\n",
      "\n",
      "Iter:\n",
      "        1000\n",
      "\n",
      "Iter:\n",
      "        2000\n",
      "\n",
      "Iter:\n",
      "        3000\n",
      "\n",
      "Iter:\n",
      "        4000\n",
      "\n",
      "Iter:\n",
      "        5000\n",
      "\n",
      "Iter:\n",
      "        6000\n",
      "\n",
      "Iter:\n",
      "        7000\n",
      "\n",
      "Iter:\n",
      "        8000\n",
      "\n",
      "Iter:\n",
      "        9000\n",
      "\n",
      "Iter:\n",
      "       10000\n",
      "\n",
      "Iter:\n",
      "       11000\n",
      "\n",
      "Iter:\n",
      "       12000\n",
      "\n",
      "Iter:\n",
      "       13000\n",
      "\n",
      "Iter:\n",
      "       14000\n",
      "\n",
      "Iter:\n",
      "       15000\n",
      "\n",
      "Iter:\n",
      "       16000\n",
      "\n",
      "Iter:\n",
      "       17000\n",
      "\n",
      "Iter:\n",
      "       18000\n",
      "\n",
      "Iter:\n",
      "       19000\n",
      "\n",
      "Iter:\n",
      "       20000\n",
      "\n",
      "Iter:\n",
      "       21000\n",
      "\n",
      "Iter:\n",
      "       22000\n",
      "\n",
      "Iter:\n",
      "       23000\n",
      "\n",
      "Iter:\n",
      "       24000\n",
      "\n",
      "Iter:\n",
      "       25000\n",
      "\n",
      "Iter:\n",
      "       26000\n",
      "\n",
      "Iter:\n",
      "       27000\n",
      "\n",
      "Iter:\n",
      "       28000\n",
      "\n",
      "Iter:\n",
      "       29000\n",
      "\n",
      "Iter:\n",
      "       30000\n",
      "\n",
      "Iter:\n",
      "       31000\n",
      "\n",
      "Iter:\n",
      "       32000\n",
      "\n",
      "Iter:\n",
      "       33000\n",
      "\n",
      "Iter:\n",
      "       34000\n",
      "\n",
      "Iter:\n",
      "       35000\n",
      "\n",
      "Iter:\n",
      "       36000\n",
      "\n",
      "Iter:\n",
      "       37000\n",
      "\n",
      "Iter:\n",
      "       38000\n",
      "\n",
      "Iter:\n",
      "       39000\n",
      "\n",
      "Iter:\n",
      "       40000\n",
      "\n",
      "Iter:\n",
      "       41000\n",
      "\n",
      "Iter:\n",
      "       42000\n",
      "\n",
      "Iter:\n",
      "       43000\n",
      "\n",
      "Iter:\n",
      "       44000\n",
      "\n",
      "Iter:\n",
      "       45000\n",
      "\n",
      "Iter:\n",
      "       46000\n",
      "\n",
      "Iter:\n",
      "       47000\n",
      "\n",
      "Iter:\n",
      "       48000\n",
      "\n",
      "Iter:\n",
      "       49000\n",
      "\n",
      "Iter:\n",
      "       50000\n",
      "\n",
      "Iter:\n",
      "       51000\n",
      "\n",
      "Iter:\n",
      "       52000\n",
      "\n",
      "Iter:\n",
      "       53000\n",
      "\n",
      "Iter:\n",
      "       54000\n",
      "\n",
      "Iter:\n",
      "       55000\n",
      "\n",
      "Iter:\n",
      "       56000\n",
      "\n",
      "Iter:\n",
      "       57000\n",
      "\n",
      "Iter:\n",
      "       58000\n",
      "\n",
      "Iter:\n",
      "       59000\n",
      "\n",
      "Iter:\n",
      "       60000\n",
      "\n",
      "Iter:\n",
      "       61000\n",
      "\n",
      "Iter:\n",
      "       62000\n",
      "\n",
      "Iter:\n",
      "       63000\n",
      "\n",
      "Iter:\n",
      "       64000\n",
      "\n",
      "Iter:\n",
      "       65000\n",
      "\n",
      "Iter:\n",
      "       66000\n",
      "\n",
      "Iter:\n",
      "       67000\n",
      "\n",
      "Iter:\n",
      "       68000\n",
      "\n",
      "Iter:\n",
      "       69000\n",
      "\n",
      "Iter:\n",
      "       70000\n",
      "\n",
      "Iter:\n",
      "       71000\n",
      "\n",
      "Iter:\n",
      "       72000\n",
      "\n",
      "Iter:\n",
      "       73000\n",
      "\n",
      "Iter:\n",
      "       74000\n",
      "\n",
      "Iter:\n",
      "       75000\n",
      "\n",
      "Iter:\n",
      "       76000\n",
      "\n",
      "Iter:\n",
      "       77000\n",
      "\n",
      "Iter:\n",
      "       78000\n",
      "\n",
      "Iter:\n",
      "       79000\n",
      "\n",
      "Iter:\n",
      "       80000\n",
      "\n",
      "Iter:\n",
      "       81000\n",
      "\n",
      "Iter:\n",
      "       82000\n",
      "\n",
      "Iter:\n",
      "       83000\n",
      "\n",
      "Iter:\n",
      "       84000\n",
      "\n",
      "Iter:\n",
      "       85000\n",
      "\n",
      "Iter:\n",
      "       86000\n",
      "\n",
      "Iter:\n",
      "       87000\n",
      "\n",
      "Iter:\n",
      "       88000\n",
      "\n",
      "Iter:\n",
      "       89000\n",
      "\n",
      "Iter:\n",
      "       90000\n",
      "\n",
      "Iter:\n",
      "       91000\n",
      "\n",
      "Iter:\n",
      "       92000\n",
      "\n",
      "Iter:\n",
      "       93000\n",
      "\n",
      "Iter:\n",
      "       94000\n",
      "\n",
      "Iter:\n",
      "       95000\n",
      "\n",
      "Iter:\n",
      "       96000\n",
      "\n",
      "Iter:\n",
      "       97000\n",
      "\n",
      "Iter:\n",
      "       98000\n",
      "\n",
      "Iter:\n",
      "       99000\n",
      "\n",
      "Iter:\n",
      "      100000\n",
      "\n",
      "Iter:\n",
      "      101000\n",
      "\n",
      "Iter:\n",
      "      102000\n",
      "\n",
      "Iter:\n",
      "      103000\n",
      "\n",
      "Iter:\n",
      "      104000\n",
      "\n",
      "Iter:\n",
      "      105000\n",
      "\n",
      "Iter:\n",
      "      106000\n",
      "\n",
      "Iter:\n",
      "      107000\n",
      "\n",
      "Iter:\n",
      "      108000\n",
      "\n",
      "Iter:\n",
      "      109000\n",
      "\n",
      "Iter:\n",
      "      110000\n",
      "\n",
      "Iter:\n",
      "      111000\n",
      "\n",
      "Iter:\n",
      "      112000\n",
      "\n",
      "Iter:\n",
      "      113000\n",
      "\n",
      "Iter:\n",
      "      114000\n",
      "\n",
      "Iter:\n",
      "      115000\n",
      "\n",
      "Iter:\n",
      "      116000\n",
      "\n",
      "Iter:\n",
      "      117000\n",
      "\n",
      "Iter:\n",
      "      118000\n",
      "\n",
      "Iter:\n",
      "      119000\n",
      "\n",
      "Iter:\n",
      "      120000\n",
      "\n",
      "Iter:\n",
      "      121000\n",
      "\n",
      "Iter:\n",
      "      122000\n",
      "\n",
      "Iter:\n",
      "      123000\n",
      "\n",
      "Iter:\n",
      "      124000\n",
      "\n",
      "Iter:\n",
      "      125000\n",
      "\n",
      "Iter:\n",
      "      126000\n",
      "\n",
      "Iter:\n",
      "      127000\n",
      "\n",
      "Iter:\n",
      "      128000\n",
      "\n",
      "Iter:\n",
      "      129000\n",
      "\n",
      "Iter:\n",
      "      130000\n",
      "\n",
      "Iter:\n",
      "      131000\n",
      "\n",
      "Iter:\n",
      "      132000\n",
      "\n",
      "Iter:\n",
      "      133000\n",
      "\n",
      "Iter:\n",
      "      134000\n",
      "\n",
      "Iter:\n",
      "      135000\n",
      "\n",
      "Iter:\n",
      "      136000\n",
      "\n",
      "Iter:\n",
      "      137000\n",
      "\n",
      "Iter:\n",
      "      138000\n",
      "\n",
      "Iter:\n",
      "      139000\n",
      "\n",
      "Iter:\n",
      "      140000\n",
      "\n",
      "Iter:\n",
      "      141000\n",
      "\n",
      "Iter:\n",
      "      142000\n",
      "\n",
      "Iter:\n",
      "      143000\n",
      "\n",
      "Iter:\n",
      "      144000\n",
      "\n",
      "Iter:\n",
      "      145000\n",
      "\n",
      "Iter:\n",
      "      146000\n",
      "\n",
      "Iter:\n",
      "      147000\n",
      "\n",
      "Iter:\n",
      "      148000\n",
      "\n",
      "Iter:\n",
      "      149000\n",
      "\n",
      "Iter:\n",
      "      150000\n",
      "\n",
      "Iter:\n",
      "      151000\n",
      "\n",
      "Iter:\n",
      "      152000\n",
      "\n",
      "Iter:\n",
      "      153000\n",
      "\n",
      "Iter:\n",
      "      154000\n",
      "\n",
      "Iter:\n",
      "      155000\n",
      "\n",
      "Iter:\n",
      "      156000\n",
      "\n",
      "Iter:\n",
      "      157000\n",
      "\n",
      "Iter:\n",
      "      158000\n",
      "\n",
      "Iter:\n",
      "      159000\n",
      "\n",
      "Iter:\n",
      "      160000\n",
      "\n",
      "Iter:\n",
      "      161000\n",
      "\n",
      "Iter:\n",
      "      162000\n",
      "\n",
      "Iter:\n",
      "      163000\n",
      "\n",
      "Iter:\n",
      "      164000\n",
      "\n",
      "Iter:\n",
      "      165000\n",
      "\n",
      "Iter:\n",
      "      166000\n",
      "\n",
      "Iter:\n",
      "      167000\n",
      "\n",
      "Iter:\n",
      "      168000\n",
      "\n",
      "Iter:\n",
      "      169000\n",
      "\n",
      "Iter:\n",
      "      170000\n",
      "\n",
      "Iter:\n",
      "      171000\n",
      "\n",
      "Iter:\n",
      "      172000\n",
      "\n",
      "Iter:\n",
      "      173000\n",
      "\n",
      "Iter:\n",
      "      174000\n",
      "\n",
      "Iter:\n",
      "      175000\n",
      "\n",
      "Iter:\n",
      "      176000\n",
      "\n",
      "Iter:\n",
      "      177000\n",
      "\n",
      "Iter:\n",
      "      178000\n",
      "\n",
      "Iter:\n",
      "      179000\n",
      "\n",
      "Iter:\n",
      "      180000\n",
      "\n",
      "Iter:\n",
      "      181000\n",
      "\n",
      "Iter:\n",
      "      182000\n",
      "\n",
      "Iter:\n",
      "      183000\n",
      "\n",
      "Iter:\n",
      "      184000\n",
      "\n",
      "Iter:\n",
      "      185000\n",
      "\n",
      "Iter:\n",
      "      186000\n",
      "\n",
      "Iter:\n",
      "      187000\n",
      "\n",
      "Iter:\n",
      "      188000\n",
      "\n",
      "Iter:\n",
      "      189000\n",
      "\n",
      "Iter:\n",
      "      190000\n",
      "\n",
      "Iter:\n",
      "      191000\n",
      "\n",
      "Iter:\n",
      "      192000\n",
      "\n",
      "Iter:\n",
      "      193000\n",
      "\n",
      "Iter:\n",
      "      194000\n",
      "\n",
      "Iter:\n",
      "      195000\n",
      "\n",
      "Iter:\n",
      "      196000\n",
      "\n",
      "Iter:\n",
      "      197000\n",
      "\n",
      "Iter:\n",
      "      198000\n",
      "\n",
      "Iter:\n",
      "      199000\n",
      "\n",
      "Iter:\n",
      "      200000\n",
      "\n",
      "Iter:\n",
      "      201000\n",
      "\n",
      "Iter:\n",
      "      202000\n",
      "\n",
      "Iter:\n",
      "      203000\n",
      "\n",
      "Iter:\n",
      "      204000\n",
      "\n",
      "Iter:\n",
      "      205000\n",
      "\n",
      "Iter:\n",
      "      206000\n",
      "\n",
      "Iter:\n",
      "      207000\n",
      "\n",
      "Iter:\n",
      "      208000\n",
      "\n",
      "Iter:\n",
      "      209000\n",
      "\n",
      "Iter:\n",
      "      210000\n",
      "\n",
      "Iter:\n",
      "      211000\n",
      "\n",
      "Iter:\n",
      "      212000\n",
      "\n",
      "Iter:\n",
      "      213000\n",
      "\n",
      "Iter:\n",
      "      214000\n",
      "\n",
      "Iter:\n",
      "      215000\n",
      "\n",
      "Iter:\n",
      "      216000\n",
      "\n",
      "Iter:\n",
      "      217000\n",
      "\n",
      "Iter:\n",
      "      218000\n",
      "\n",
      "Iter:\n",
      "      219000\n",
      "\n",
      "COMPUTATIONAL TIME [h] \n",
      "    0.2055\n",
      "\n",
      " COMPUTATIONAL TIME [ms/cycle] \n",
      "    3.3748\n",
      "\n",
      "   2.6375e-10\n",
      "\n",
      "   4.4222e-15\n",
      "\n"
     ]
    },
    {
     "name": "stderr",
     "output_type": "stream",
     "text": [
      "Warning: Directory already exists."
     ]
    }
   ],
   "source": [
    "% Run truncated prova file to perform standard initialization\n",
    "run(\"PARAMETER_PLOT_FILES\\prova_Rothamsted_Spinup\");\n",
    "\n",
    "%%%%%%%%%%%%%%%%%%%%%%%%%%%%\n",
    "MAIN_FRAME ;\n",
    "%%%%%%%%%%%%%%%%%%%%%%%%%%%%\n",
    "% cd(current_directory);\n",
    "%%%%%%%%%%%%%%%%%%%%%%%%%%%%%%\n",
    "initial_spinup_results_folder = ['results' filesep 'initial_spinup'];\n",
    "mkdir(initial_spinup_results_folder);\n",
    "initial_spinup_result_fn = [run_identifier '.mat'];\n",
    "initial_spinup_results_path = [initial_spinup_results_folder filesep initial_spinup_result_fn];\n",
    "save(initial_spinup_results_path);"
   ]
  },
  {
   "cell_type": "markdown",
   "id": "e195b630-234d-4c32-b255-aa24a5dcf24e",
   "metadata": {
    "jp-MarkdownHeadingCollapsed": true
   },
   "source": [
    "### 1.1 Calibration\n",
    "\n",
    "Here, we can compare some of the model outputs, such as yield with recorded field values to get an idea if it matches. If not, the spinup should be repeated with modified parameters.\n",
    "We will start by calculating the total simulated straw and grain yields per year."
   ]
  },
  {
   "cell_type": "code",
   "execution_count": null,
   "id": "40822c8c-ff7f-4a3b-b586-6825aea1d6b2",
   "metadata": {},
   "outputs": [],
   "source": [
    "% Run this cell to load data from a previous spinup\n",
    "initial_spinup_results_path = ['results' filesep 'initial_spinup' filesep '25-04-23-1817_Rothamsted_npk_res_ini_35_05_15.mat'];\n",
    "load(initial_spinup_results_path);"
   ]
  },
  {
   "cell_type": "code",
   "execution_count": 188,
   "id": "af19ff06-cfdd-4140-8cc0-3c1d57bb2b48",
   "metadata": {},
   "outputs": [],
   "source": [
    "% Setting this true means that negative `RB` values at planting will not be counted to yield\n",
    "OPT_only_positive_yield = true;\n",
    "\n",
    "[grain_yearly_pred, straw_yearly_pred] = estimate_yield(Datam, RB_L, OPT_only_positive_yield);"
   ]
  },
  {
   "cell_type": "raw",
   "id": "9662cf30-a489-4e81-b18b-cc5160e7e8ed",
   "metadata": {},
   "source": [
    "relevant_strip = 21;  %! Strip 3: No fertilizer, 21 (=2.1): Most fertilizer, highest yield\n",
    "crop_data = readtable(['data' filesep 'Rothamsted_yield_data.csv']);\n",
    "crop_data = crop_data((crop_data.section == relevant_section) & (crop_data.strip == relevant_strip), :);"
   ]
  },
  {
   "cell_type": "markdown",
   "id": "dd980e8e-099f-41f3-bff5-45a9f47b3c5d",
   "metadata": {},
   "source": [
    "To compare with the reported yields from the field, we need to make sure that the units match (gC/m^2 vs. t/ha, where t is tons of 85% dry matter, and C content of dry matter is about 45% for grain and straw)."
   ]
  },
  {
   "cell_type": "code",
   "execution_count": 189,
   "id": "c67cef26-4a94-4ca2-962e-52f55489674d",
   "metadata": {},
   "outputs": [],
   "source": [
    "years_daily = Datam(1:24:end,1); %! Year for each day of the simulation (Datam is in h, hence only every 24th)\n",
    "years = unique(years_daily);\n",
    "years = years(2:end); % Ignore first year, which has no harvest\n",
    "grain_yearly_obs = zeros(length(years), 1);\n",
    "straw_yearly_obs = zeros(length(years), 1);\n",
    "obs_dry_matter = 0.8;\n",
    "c_content_grain = 0.45;\n",
    "c_content_straw = 0.45;\n",
    "grain_conversion_factor = obs_dry_matter * c_content_grain * 1e2;  %! from t/ha to gC/m^2\n",
    "straw_conversion_factor = obs_dry_matter * c_content_straw * 1e2;  %! from t/ha to gC/m^2\n",
    "for i=1:length(years)\n",
    "    yr = years(i);\n",
    "    grain_yearly_obs(i) = crop_data.grain(crop_data.harvest_year==yr) * grain_conversion_factor;\n",
    "    straw_yearly_obs(i) = crop_data.straw(crop_data.harvest_year==yr) * straw_conversion_factor;\n",
    "end"
   ]
  },
  {
   "cell_type": "code",
   "execution_count": 190,
   "id": "cc855bcc-2fb6-40c3-8e37-b5bd50412ba3",
   "metadata": {},
   "outputs": [
    {
     "name": "stdout",
     "output_type": "stream",
     "text": [
      "Mean grain yields - observed: 282.84 , predicted: 270.165\n",
      "Mean straw yields - observed: 213.615 , predicted: 168.7045\n"
     ]
    }
   ],
   "source": [
    "disp(['Mean grain yields - observed: ' num2str(mean(grain_yearly_obs)) ' , predicted: ' num2str(mean(grain_yearly_pred))])\n",
    "disp(['Mean straw yields - observed: ' num2str(mean(straw_yearly_obs)) ' , predicted: ' num2str(mean(straw_yearly_pred))])"
   ]
  },
  {
   "cell_type": "code",
   "execution_count": 191,
   "id": "4a9c1b0e-4d6e-4be5-bbb9-2544448c105a",
   "metadata": {},
   "outputs": [
    {
     "data": {
      "image/png": "[encoded data removed]"
     },
     "execution_count": 191,
     "metadata": {},
     "output_type": "execute_result"
    }
   ],
   "source": [
    "figure\n",
    "scatter(grain_yearly_obs, grain_yearly_pred)"
   ]
  },
  {
   "cell_type": "code",
   "execution_count": 192,
   "id": "658ad181-84ac-4d39-b726-6206765b9d5c",
   "metadata": {
    "scrolled": true
   },
   "outputs": [
    {
     "data": {
      "image/png": "[encoded data removed]"
     },
     "execution_count": 192,
     "metadata": {},
     "output_type": "execute_result"
    }
   ],
   "source": [
    "figure\n",
    "plot(grain_yearly_obs)\n",
    "hold on\n",
    "plot(grain_yearly_pred)"
   ]
  },
  {
   "cell_type": "code",
   "execution_count": 110,
   "id": "5d080aa5-f450-425c-ad05-f38decd787b0",
   "metadata": {},
   "outputs": [
    {
     "data": {
      "image/png": "[encoded data removed]"
     },
     "execution_count": 110,
     "metadata": {},
     "output_type": "execute_result"
    }
   ],
   "source": [
    "figure\n",
    "scatter(straw_yearly_obs, straw_yearly_pred)\n",
    "hold on\n",
    "scatter(straw_yearly_obs(10:end), straw_yearly_pred(10:end))"
   ]
  },
  {
   "cell_type": "code",
   "execution_count": 111,
   "id": "d8c81ca4-df62-4f73-8c9c-c7393eac6df1",
   "metadata": {},
   "outputs": [
    {
     "data": {
      "image/png": "[encoded data removed]"
     },
     "execution_count": 111,
     "metadata": {},
     "output_type": "execute_result"
    }
   ],
   "source": [
    "figure\n",
    "plot(straw_yearly_obs)\n",
    "hold on\n",
    "plot(straw_yearly_pred)"
   ]
  },
  {
   "cell_type": "markdown",
   "id": "9e65af2b-98ec-4cfa-b479-12c074988745",
   "metadata": {},
   "source": [
    "### 1.2 Soil density\n",
    "\n",
    "Just out of curiosity we can also compare soil densities. The Rothamsted data mentions 2.52*1e6 kg/ha dry soil weight for the first 23cm of soil. This corresponds to 2.52\\*1e2 kg/m^2 * 1/(0.23 m) = 1.095 kg/m^3. T&C gives us a value that is only a few % off:"
   ]
  },
  {
   "cell_type": "code",
   "execution_count": 194,
   "id": "50e92685-8c2e-493f-a30d-81d6f086074e",
   "metadata": {},
   "outputs": [
    {
     "data": {
      "text/html": [
       "<html><body><pre>rsd = 1×9 double\n",
       "1.0e+03 *\n",
       "\n",
       "    1.2249    1.2249    1.2249    1.2249    1.2249    1.2249    1.2249    1.2249    1.2249\n",
       "</pre></body></html>"
      ],
      "text/plain": [
       "rsd = 1×9 double\n",
       "1.0e+03 *\n",
       "\n",
       "    1.2249    1.2249    1.2249    1.2249    1.2249    1.2249    1.2249    1.2249    1.2249\n"
      ]
     },
     "execution_count": 194,
     "metadata": {},
     "output_type": "execute_result"
    }
   ],
   "source": [
    "rsd\n"
   ]
  },
  {
   "cell_type": "code",
   "execution_count": 196,
   "id": "48b19626-8df8-44c1-bd7a-221eb7d96dd2",
   "metadata": {},
   "outputs": [
    {
     "name": "stdout",
     "output_type": "stream",
     "text": [
      "Estimated soil density: 1.225e+03 kg/m^3\n"
     ]
    }
   ],
   "source": [
    "disp(sprintf('Estimated soil density: %.3e kg/m^3', mean(rsd)))\n"
   ]
  },
  {
   "attachments": {},
   "cell_type": "markdown",
   "id": "84da61c6-bec9-4c25-b6b7-ea99be5fb937",
   "metadata": {},
   "source": [
    "## 2. BG Spinup\n",
    "\n",
    "Now we will run the biogeochemistry spinup in isolation from the rest, for bouts of 100 years at once, and repeat that until the values for the BG pools remain relatively constant.\n",
    "\n",
    "First we will add a folder to the matlab path that has a few functions defined that we will use here. We will also add the 'T&C_CODE' folder, to make sure it is still on the path."
   ]
  },
  {
   "cell_type": "code",
   "execution_count": 197,
   "id": "1d946301-8466-4a6d-92bc-8d9966973bca",
   "metadata": {},
   "outputs": [],
   "source": [
    "addpath(\"biogeochemistry_spinup_functions\");\n",
    "addpath(\"T&C_CODE\");"
   ]
  },
  {
   "cell_type": "markdown",
   "id": "a47d3109-ac5d-476f-b23a-3567caebfb9a",
   "metadata": {},
   "source": [
    "### 2.1. Load results from spinup"
   ]
  },
  {
   "cell_type": "code",
   "execution_count": null,
   "id": "ae422bac-324c-4e68-a99e-8f91c113267a",
   "metadata": {},
   "outputs": [],
   "source": [
    "\n",
    "load(initial_spinup_results_path);"
   ]
  },
  {
   "cell_type": "markdown",
   "id": "6c8ac950-2202-4f9e-a103-345809d08671",
   "metadata": {},
   "source": [
    "#### 2.1.a If simulations include woody vegetation\n",
    "If your vegetation includes wook, you will have to derive the wood turnover coefficient (`Wm_H` and/or `Wm_L`) after the first spinup. You should then run a second spinup with the parameter file containing the correct values for this coefficient. See Simone Fatichi's tutorial video for details."
   ]
  },
  {
   "cell_type": "markdown",
   "id": "b5f72b93-6539-4c8b-8d53-38cd6955fd46",
   "metadata": {},
   "source": [
    "### 2.2. Run biogeochemistry spinup\n",
    "\n",
    "The biogeochemistry spinup will run in multiple epochs. At each epoch the spinup continues from the previous state for a given number of years (`Nyears_epoch`). The spinup ends, if at the end of an epoch the value of none of the biogeochemistry pools has changed more than a given percentage (`rtol`), or if the maximum number of epochs (`N_epochs_max`) is reached.\n",
    "\n",
    "Below, we define the parameters mentioned above, as well as the path to the file holding deposition data."
   ]
  },
  {
   "cell_type": "code",
   "execution_count": null,
   "id": "907d4f71-c997-4602-8daf-42b3db9677e9",
   "metadata": {},
   "outputs": [],
   "source": [
    "pwd"
   ]
  },
  {
   "cell_type": "code",
   "execution_count": 198,
   "id": "e21f8bf5-3954-4a6e-8b93-2246e2e46fcc",
   "metadata": {},
   "outputs": [
    {
     "name": "stderr",
     "output_type": "stream",
     "text": [
      "License checkout failed.\n",
      "License Manager Error 4410\n",
      "Invalid security token. (Status code: Unauthorized)\n",
      "\n",
      "Troubleshoot this issue by visiting: \n",
      "https://www.mathworks.com/support/lme/4410\n",
      "\n",
      "Diagnostic Information:\n",
      "Feature: MATLAB \n",
      "License path:  \n",
      "Licensing error: 4410,0.\n",
      "\n",
      "Error in bg_preprocess (line 12)\n",
      "    Se = (log(nanmean(Aew)/0.000008575)/11.67)*Se_fc;"
     ]
    }
   ],
   "source": [
    "Nyears_epoch = 100;\n",
    "N_epochs_max = 30;\n",
    "%! If none of the pools changes more than 5% or 1e-4 during an epoch, the spinup ends\n",
    "rtol = 0.1;\n",
    "atol = 1e-4;\n",
    "path_deposition_data = ['data' 'Inputs' 'All_deposition_data.mat'];\n",
    "manure_data_path = [root_dir filesep 'data' filesep 'Rothamsted_manure_data.csv'];\n",
    "OPT_Use_Fertilizer = true;\n",
    "bg_descriptor = '8_N3PKMg';\n",
    "if length(bg_descriptor) > 0\n",
    "    run_identifier = [run_identifier '_' bg_descriptor];\n",
    "end\n",
    "bg_save_folder = ['results' filesep 'bg_spinup' filesep run_identifier];\n",
    "mkdir(bg_save_folder);\n",
    "\n",
    "% Preprocessing - Function arguments are from initial spinup\n",
    "[Se, Se_fc, Psi_s, Ts, V, VT] = bg_preprocess(Ta, Tdp, O, V, Soil_Param, Phy, SPAR, Bio_Zs);"
   ]
  },
  {
   "cell_type": "code",
   "execution_count": null,
   "id": "d1aacd70-9123-425e-8e57-3f4a150fc05a",
   "metadata": {
    "scrolled": true
   },
   "outputs": [],
   "source": [
    "% The actual spinup\n",
    "[B, R_litter, R_litter_sur, R_microbe, R_bacteria, R_ew, VOL, BfixN, Min_N, Min_P, RmycAM, RmycEM, ...\n",
    "    N2flx, NH4_Uptake, NO3_Uptake, P_Uptake, K_Uptake, LEAK_NH4, LEAK_NO3, LEAK_P, LEAK_K, LEAK_DOC, ...\n",
    "    LEAK_DON, LEAK_DOP, Lk] = bg_spinup(Lat, Lon, N_epochs_max, Nyears_epoch, ISOIL_H+ISOIL_L, Zbio, rsd, ...\n",
    "    Pcla, Psan, PHs, Zs, Ts, Ta, Psi_s, Se, Se_fc, V, VT, T_L, T_H, Lk, RexmyI, Ccrown, B_H+B_L, rtol, atol, bg_save_folder, ...\n",
    "    dateNum1, crop_data, manure_data_path, OPT_Use_Fertilizer);\n",
    "\n",
    "% Plot results of final epoch (states should not change significantly anymore)\n",
    "bg_plot(B, R_litter, R_litter_sur, R_microbe, R_bacteria, R_ew, VOL, BfixN, Min_N, Min_P, RmycAM, RmycEM, ...\n",
    "    N2flx, NH4_Uptake, NO3_Uptake, P_Uptake, K_Uptake, LEAK_NH4, LEAK_NO3, LEAK_P, LEAK_K, LEAK_DOC, ...\n",
    "    LEAK_DON, LEAK_DOP, Lk, Zbio, rsd);"
   ]
  },
  {
   "cell_type": "markdown",
   "id": "caa70d53-bc40-469a-bad5-e8f050752d4d",
   "metadata": {},
   "source": [
    "### 2.3. Export relevant variables\n",
    "This part is now done already in the `bg_spinup` function. No need to run the cell below.\n",
    "~~Finally, we save the final state of the biogeochemistry nutrient pools.~~"
   ]
  },
  {
   "cell_type": "raw",
   "id": "5f690038-b55a-4053-b2e7-97e475496c38",
   "metadata": {},
   "source": [
    "B_end = B(end, :);\n",
    "bg_save_path_final = [bg_save_folder filesep 'final.mat'];\n",
    "save(bg_save_path_final, \"B_end\");"
   ]
  },
  {
   "cell_type": "markdown",
   "id": "ae294ce1-c3e6-47ca-80fb-f177516ca95b",
   "metadata": {},
   "source": [
    "## 3 Full spin-up"
   ]
  },
  {
   "cell_type": "code",
   "execution_count": 1,
   "id": "2fe4d729-24b9-49f3-928c-79761bdd22fe",
   "metadata": {},
   "outputs": [],
   "source": [
    "% Run this cell to load data from previous spin up runs\n",
    "clearvars\n",
    "\n",
    "root_dir = cd;\n",
    "id_location = 'Rothamsted';\n",
    "% timestamp = '25-04-23-1817';\n",
    "timestamp = '25-05-09-1508';\n",
    "short_descriptor = 'porg00475';\n",
    "run_identifier = [timestamp '_' id_location '_' short_descriptor];\n",
    "run_identifier_bg = [run_identifier '_21_FymN2'];\n",
    "\n",
    "initial_spinup_results_path = ['results' filesep 'initial_spinup' filesep run_identifier];\n",
    "bg_save_path_final = ['results' filesep 'bg_spinup' filesep run_identifier_bg filesep 'final.mat'];\n",
    "\n",
    "% Location of parameters to be used in multiple stages of the spinup\n",
    "param_filename = ['MOD_PARAM_' id_location '_Spinup_common'];\n",
    "PARAM_IC = [root_dir filesep 'PARAMETER_PLOT_FILES' filesep param_filename];\n",
    "\n",
    "addpath(\"T&C_CODE\");\n",
    "addpath(\"biogeochemistry_spinup_functions\");"
   ]
  },
  {
   "cell_type": "code",
   "execution_count": 121,
   "id": "79e9bbaf-1c31-44c7-b2cd-19aaed50e23e",
   "metadata": {},
   "outputs": [],
   "source": [
    "% ..alternatively run this cell to make sure the work space is clean\n",
    "clearvars -except initial_spinup_results_path bg_save_path_final PARAM_IC root_dir"
   ]
  },
  {
   "cell_type": "code",
   "execution_count": 3,
   "id": "2a6018c4-a84f-4b78-b70b-bf232fcbeb05",
   "metadata": {
    "scrolled": true
   },
   "outputs": [
    {
     "name": "stderr",
     "output_type": "stream",
     "text": [
      "Warning: The following error was caught while executing 'onCleanup' class destructor:\n",
      "Maximum recursion limit of 500 reached.\n",
      "\n",
      "Error in run (line 59)\n",
      "    cleaner = onCleanup(@() resetCD(startDir,dir));\n",
      "    ^^^^^^^^^^^^^^^^^^^^^^^^^^^^^^^^^^^^^^^^^^^^^^^\n",
      "Caused by:\n",
      "Warning: The following error was caught while executing 'onCleanup' class destructor:\n",
      "Maximum recursion limit of 500 reached.\n",
      "\n",
      "Error in run (line 28)\n",
      "if isstring(scriptname) || iscellstr(scriptname)\n",
      "^^^^^^^^^^^^^^^^^^^^^^^^^^^^^^^^^^^^^^^^^^^^^^^^\n",
      "Caused by:\n",
      "Maximum recursion limit of 500 reached.hed.\n",
      "\n",
      "Error in run (line 63)\n",
      "foundScript = evalin('caller', strcat(\"which('\", scriptStem, \"')\"));\n",
      "\n",
      "Caused by:\n",
      "    Maximum recursion limit of 500 reached."
     ]
    }
   ],
   "source": [
    "prev_data = load(initial_spinup_results_path);\n",
    "prev_bg = load(bg_save_path_final).B_end;\n",
    "\n",
    "% Run truncated prova file to perform standard initialization\n",
    "run(\"PARAMETER_PLOT_FILES\\prova_Rothamsted_Spinup\");\n",
    "OPT_BG = 1;\n",
    "OPT_Use_Fertilizer = 1;\n",
    "\n",
    "%%%%%%%%%%%%%%%%%%%%%%%%%%%%%%%%%%%%%%%%%%%%%%%%%%%\n",
    "%%%%%%%%%%%%%%%%%%%%%%%%%%%%%%%%%%%%%%%%%%%%\n",
    "initial_parameters_path = PARAM_IC;\n",
    "% Set PARAM IC to BG-parameter file\n",
    "PARAM_IC = [root_dir filesep 'PARAMETER_PLOT_FILES' filesep 'MOD_PARAM_Rothamsted_bg'];\n",
    "%%%%%%%%%%%%%%%%%%%%%%%%%%%%\n",
    "MAIN_FRAME\n",
    "%%%%%%%%%%%%%%%%%%%%%%%%%%%%\n",
    "\n",
    "descriptor_full = \"Full spinup providing no NPK reserve. Fertilizer as in Rothamsted Strip 7 with NPK and already applied at BG spinup\"\n",
    "%descriptor_full = \"Full spinup providing initial NPK reserve 2(N), 0(P) and 1(K), fertilizer as in Rothamsted Strip 2.1 with N2 and manure\";\n",
    "% short_descriptor_full = 'limit_rNPKc';\n",
    "short_descriptor_full = 'npk_res_ini_0_0_0_fert_like_field';\n",
    "run_identifier_full = [run_identifier_bg '_' short_descriptor_full];\n",
    "\n",
    "full_spinup_folder = [root_dir filesep 'results' filesep 'full_spinup'];\n",
    "mkdir(full_spinup_folder);\n",
    "save_path_curr = [full_spinup_folder filesep run_identifier_full '.mat'];\n",
    "save(save_path_curr);"
   ]
  },
  {
   "cell_type": "markdown",
   "id": "43f32e3a-8069-4e0d-a799-77db9deb6e0f",
   "metadata": {},
   "source": [
    "### 3.1 Repeat until pools converge\n",
    "Running the spinup with the full model might cause some nutrient pools that have been stable during the BG-spinup to change again. We can plot them to identify them and then repeat the spinup process."
   ]
  },
  {
   "cell_type": "code",
   "execution_count": 134,
   "id": "412db7e6-ae15-4a19-b53d-13103d19b894",
   "metadata": {},
   "outputs": [
    {
     "data": {
      "image/png": "[encoded data removed]"
     },
     "execution_count": 134,
     "metadata": {},
     "output_type": "execute_result"
    }
   ],
   "source": [
    "% Plot nutrient pools to see if they are stable\n",
    "figure; hold on\n",
    "plot(P(:,[45,54]))"
   ]
  },
  {
   "cell_type": "code",
   "execution_count": null,
   "id": "3a6dd9a2-6d0f-4e57-83f5-b650f93bd287",
   "metadata": {},
   "outputs": [],
   "source": [
    "for epoch=1:10\n",
    "    clearvars -except epoch save_path_curr root_dir PARAM_IC full_spinup_folder run_identifier_full initial_parameters_path\n",
    "    \n",
    "    prev_data = load(save_path_curr);\n",
    "    prev_bg = prev_data.P(end,:);\n",
    "    \n",
    "    % Run truncated prova file to perform standard initialization\n",
    "    run(\"PARAMETER_PLOT_FILES\\prova_Rothamsted_Spinup\");\n",
    "    OPT_BG = 1;\n",
    "    OPT_Use_Fertilizer = 1;\n",
    "    PARAM_IC = [root_dir filesep 'PARAMETER_PLOT_FILES' filesep 'MOD_PARAM_Rothamsted_bg'];\n",
    "    %%%%%%%%%%%%%%%%%%%%%%%%%%%%\n",
    "    MAIN_FRAME\n",
    "    \n",
    "    repetition = 1;\n",
    "    while true\n",
    "        save_path_curr = [full_spinup_folder filesep run_identifier_full sprintf('_rep%02d', repetition) '.mat'];\n",
    "        if isfile(save_path_curr)\n",
    "            repetition = repetition + 1;\n",
    "        else\n",
    "            save(save_path_curr, '-regexp', '^(?!(prev_bg|prev_data)$).');\n",
    "            disp(['Saved file under ' save_path_curr])\n",
    "            break;\n",
    "        end\n",
    "    end\n",
    "end"
   ]
  },
  {
   "cell_type": "markdown",
   "id": "5cb05634-fe56-4339-87bb-47caa7d0090d",
   "metadata": {},
   "source": [
    "### 3.2 Calculate yield, soil organic carbon and soil N"
   ]
  },
  {
   "cell_type": "code",
   "execution_count": 5,
   "id": "9c01c0e1-38b3-4ab0-88c7-9060709afbba",
   "metadata": {},
   "outputs": [
    {
     "data": {
      "text/html": [
       "<html><body><pre>soil_C_content = 0.0079</pre></body></html>"
      ],
      "text/plain": [
       "soil_C_content = 0.0079"
      ]
     },
     "execution_count": 5,
     "metadata": {},
     "output_type": "execute_result"
    },
    {
     "data": {
      "text/html": [
       "<html><body><pre>soil_N_content = 0.0013</pre></body></html>"
      ],
      "text/plain": [
       "soil_N_content = 0.0013"
      ]
     },
     "execution_count": 5,
     "metadata": {},
     "output_type": "execute_result"
    }
   ],
   "source": [
    "load(\"results\\full_spinup\\25-05-09-1508_Rothamsted_porg00475_3nil_npk_res_ini_0_0_0_fert_like_field_rep03.mat\")\n",
    "%! Soil N in gN / g dry soil\n",
    "soil_C_content = sum(P(end, 6:21)) / (Zbio * sum(rsd .* Bio_Zs))\n",
    "%! Soil N in gN / g dry soil\n",
    "soil_N_content = sum(P(end, 25:33)) / (Zbio * sum(rsd .* Bio_Zs))"
   ]
  },
  {
   "cell_type": "code",
   "execution_count": 6,
   "id": "9d760417-3092-4f62-8723-95a31222d069",
   "metadata": {},
   "outputs": [],
   "source": [
    "% Setting this true means that negative `RB` values at planting will not be counted to yield\n",
    "OPT_only_positive_yield = true;\n",
    "\n",
    "[grain_yearly_pred, straw_yearly_pred] = estimate_yield(Datam, RB_L, OPT_only_positive_yield);\n",
    "[grain_yearly_pred_prev, straw_yearly_pred_prev] = estimate_yield(prev_data.Datam, prev_data.RB_L, OPT_only_positive_yield);\n"
   ]
  },
  {
   "cell_type": "code",
   "execution_count": 7,
   "id": "33a7699c-f9ef-4ffa-8980-13fc369b1d66",
   "metadata": {},
   "outputs": [],
   "source": [
    "years_daily = Datam(2:24:end,1); %! Year for each day of the simulation (Datam is in h, hence only every 24th)\n",
    "years = unique(years_daily);\n",
    "years = years(2:end); % Ignore first year, which has no harvest\n",
    "grain_yearly_obs = zeros(length(years), 1);\n",
    "straw_yearly_obs = zeros(length(years), 1);\n",
    "obs_dry_matter = 0.8;\n",
    "c_content_grain = 0.45;\n",
    "c_content_straw = 0.45;\n",
    "grain_conversion_factor = obs_dry_matter * c_content_grain * 1e2;  %! from t/ha to gC/m^2\n",
    "straw_conversion_factor = obs_dry_matter * c_content_straw * 1e2;  %! from t/ha to gC/m^2\n",
    "for i=1:length(years)\n",
    "    yr = years(i);\n",
    "    grain_yearly_obs(i) = crop_data.grain(crop_data.harvest_year==yr) * grain_conversion_factor;\n",
    "    straw_yearly_obs(i) = crop_data.straw(crop_data.harvest_year==yr) * straw_conversion_factor;\n",
    "end"
   ]
  },
  {
   "cell_type": "code",
   "execution_count": 8,
   "id": "fff071f2-540b-4b2c-97ce-3502b9f5526a",
   "metadata": {},
   "outputs": [
    {
     "data": {
      "image/png": "[encoded data removed]"
     },
     "execution_count": 8,
     "metadata": {},
     "output_type": "execute_result"
    }
   ],
   "source": [
    "figure\n",
    "plot(grain_yearly_obs)\n",
    "hold on\n",
    "plot(grain_yearly_pred)\n",
    "plot(grain_yearly_pred_prev, \"LineStyle\", \"--\")"
   ]
  },
  {
   "cell_type": "code",
   "execution_count": 184,
   "id": "2dc731ad-5b51-4461-ba8a-552a1a47023d",
   "metadata": {},
   "outputs": [
    {
     "data": {
      "image/png": "[encoded data removed]"
     },
     "execution_count": 184,
     "metadata": {},
     "output_type": "execute_result"
    }
   ],
   "source": [
    "figure\n",
    "hold on\n",
    "plot(P(:,[45,54]))\n",
    "plot(prev_data.P(:,[45, 54]), \"LineStyle\", \"--\")"
   ]
  },
  {
   "cell_type": "code",
   "execution_count": 150,
   "id": "a5b30b03-2944-4602-8e3c-cd1c0b86dc25",
   "metadata": {},
   "outputs": [
    {
     "data": {
      "text/html": [
       "<html><body><pre>OPT_BG = 0</pre></body></html>"
      ],
      "text/plain": [
       "OPT_BG = 0"
      ]
     },
     "execution_count": 150,
     "metadata": {},
     "output_type": "execute_result"
    }
   ],
   "source": [
    "OPT_BG"
   ]
  },
  {
   "cell_type": "code",
   "execution_count": null,
   "id": "17a24394-3fa0-450b-86a7-50739563c14c",
   "metadata": {},
   "outputs": [],
   "source": []
  }
 ],
 "metadata": {
  "kernelspec": {
   "display_name": "MATLAB Kernel",
   "language": "matlab",
   "name": "jupyter_matlab_kernel"
  },
  "language_info": {
   "file_extension": ".m",
   "mimetype": "text/x-matlab",
   "name": "matlab"
  }
 },
 "nbformat": 4,
 "nbformat_minor": 5
}
